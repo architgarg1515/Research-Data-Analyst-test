{
 "cells": [
  {
   "cell_type": "code",
   "execution_count": 1,
   "metadata": {},
   "outputs": [],
   "source": [
    "import numpy as np \n",
    "import pandas as pd \n",
    "import matplotlib.pyplot as plt\n",
    "import seaborn as sns\n",
    "from sklearn import model_selection, preprocessing\n",
    "import xgboost as xgb\n",
    "color = sns.color_palette()\n",
    "\n",
    "%matplotlib inline\n"
   ]
  },
  {
   "cell_type": "code",
   "execution_count": 2,
   "metadata": {},
   "outputs": [],
   "source": [
    "# Let's load our excel and parse per Sheet, as well i will add predict sheet \n",
    "xls = pd.ExcelFile(\"Data/Dataset.xlsx\", on_demand = True)\n",
    "sheets = xls.sheet_names\n",
    "df_test_job =xls.parse('Test_Jobs')\n",
    "df_job_titles = xls.parse('Test_JobTitles')\n",
    "df_test_cat = xls.parse('Test_Categories')\n",
    "df_predict = xls.parse('Predict').set_index('JobId')"
   ]
  },
  {
   "cell_type": "code",
   "execution_count": 3,
   "metadata": {},
   "outputs": [
    {
     "data": {
      "text/html": [
       "<div>\n",
       "<style scoped>\n",
       "    .dataframe tbody tr th:only-of-type {\n",
       "        vertical-align: middle;\n",
       "    }\n",
       "\n",
       "    .dataframe tbody tr th {\n",
       "        vertical-align: top;\n",
       "    }\n",
       "\n",
       "    .dataframe thead th {\n",
       "        text-align: right;\n",
       "    }\n",
       "</style>\n",
       "<table border=\"1\" class=\"dataframe\">\n",
       "  <thead>\n",
       "    <tr style=\"text-align: right;\">\n",
       "      <th></th>\n",
       "      <th>JobTitleId</th>\n",
       "      <th>JobTitleName</th>\n",
       "      <th>CategoryName</th>\n",
       "    </tr>\n",
       "    <tr>\n",
       "      <th>CategoryId</th>\n",
       "      <th></th>\n",
       "      <th></th>\n",
       "      <th></th>\n",
       "    </tr>\n",
       "  </thead>\n",
       "  <tbody>\n",
       "    <tr>\n",
       "      <th>1</th>\n",
       "      <td>1</td>\n",
       "      <td>Receptionist</td>\n",
       "      <td>General Administration</td>\n",
       "    </tr>\n",
       "    <tr>\n",
       "      <th>1</th>\n",
       "      <td>2</td>\n",
       "      <td>Administrative Assistant</td>\n",
       "      <td>General Administration</td>\n",
       "    </tr>\n",
       "    <tr>\n",
       "      <th>1</th>\n",
       "      <td>3</td>\n",
       "      <td>Bookkeeper</td>\n",
       "      <td>General Administration</td>\n",
       "    </tr>\n",
       "    <tr>\n",
       "      <th>2</th>\n",
       "      <td>4</td>\n",
       "      <td>Special Education Teacher</td>\n",
       "      <td>Special Education</td>\n",
       "    </tr>\n",
       "    <tr>\n",
       "      <th>2</th>\n",
       "      <td>5</td>\n",
       "      <td>Special Education Assistant</td>\n",
       "      <td>Special Education</td>\n",
       "    </tr>\n",
       "    <tr>\n",
       "      <th>2</th>\n",
       "      <td>6</td>\n",
       "      <td>Reader Aide</td>\n",
       "      <td>Special Education</td>\n",
       "    </tr>\n",
       "    <tr>\n",
       "      <th>3</th>\n",
       "      <td>7</td>\n",
       "      <td>Civil Engineer</td>\n",
       "      <td>Civil Engineering</td>\n",
       "    </tr>\n",
       "    <tr>\n",
       "      <th>3</th>\n",
       "      <td>8</td>\n",
       "      <td>Traffic Engineer</td>\n",
       "      <td>Civil Engineering</td>\n",
       "    </tr>\n",
       "    <tr>\n",
       "      <th>3</th>\n",
       "      <td>9</td>\n",
       "      <td>Environmental Manager</td>\n",
       "      <td>Civil Engineering</td>\n",
       "    </tr>\n",
       "    <tr>\n",
       "      <th>3</th>\n",
       "      <td>10</td>\n",
       "      <td>Field Engineering Technician</td>\n",
       "      <td>Civil Engineering</td>\n",
       "    </tr>\n",
       "    <tr>\n",
       "      <th>4</th>\n",
       "      <td>11</td>\n",
       "      <td>Food Distributor</td>\n",
       "      <td>Community Work</td>\n",
       "    </tr>\n",
       "  </tbody>\n",
       "</table>\n",
       "</div>"
      ],
      "text/plain": [
       "            JobTitleId                  JobTitleName            CategoryName\n",
       "CategoryId                                                                  \n",
       "1                    1                  Receptionist  General Administration\n",
       "1                    2      Administrative Assistant  General Administration\n",
       "1                    3                    Bookkeeper  General Administration\n",
       "2                    4     Special Education Teacher       Special Education\n",
       "2                    5   Special Education Assistant       Special Education\n",
       "2                    6                   Reader Aide       Special Education\n",
       "3                    7                Civil Engineer       Civil Engineering\n",
       "3                    8              Traffic Engineer       Civil Engineering\n",
       "3                    9         Environmental Manager       Civil Engineering\n",
       "3                   10  Field Engineering Technician       Civil Engineering\n",
       "4                   11              Food Distributor          Community Work"
      ]
     },
     "execution_count": 3,
     "metadata": {},
     "output_type": "execute_result"
    }
   ],
   "source": [
    "# Merge Sheet \"df_job_titles\" with \"df_test_cat\"\n",
    "df_job_categ = df_job_titles.set_index(['CategoryId']).join(df_test_cat.set_index(['CategoryId']))\n",
    "df_job_categ"
   ]
  },
  {
   "cell_type": "code",
   "execution_count": 4,
   "metadata": {},
   "outputs": [
    {
     "data": {
      "text/html": [
       "<div>\n",
       "<style scoped>\n",
       "    .dataframe tbody tr th:only-of-type {\n",
       "        vertical-align: middle;\n",
       "    }\n",
       "\n",
       "    .dataframe tbody tr th {\n",
       "        vertical-align: top;\n",
       "    }\n",
       "\n",
       "    .dataframe thead th {\n",
       "        text-align: right;\n",
       "    }\n",
       "</style>\n",
       "<table border=\"1\" class=\"dataframe\">\n",
       "  <thead>\n",
       "    <tr style=\"text-align: right;\">\n",
       "      <th></th>\n",
       "      <th></th>\n",
       "      <th>JobId</th>\n",
       "      <th>City</th>\n",
       "      <th>State</th>\n",
       "      <th>DescriptionLength</th>\n",
       "      <th>EducationLevel</th>\n",
       "      <th>Clicks</th>\n",
       "      <th>Applicants</th>\n",
       "      <th>JobTitleName</th>\n",
       "      <th>CategoryName</th>\n",
       "    </tr>\n",
       "    <tr>\n",
       "      <th>CategoryId</th>\n",
       "      <th>JobTitleId</th>\n",
       "      <th></th>\n",
       "      <th></th>\n",
       "      <th></th>\n",
       "      <th></th>\n",
       "      <th></th>\n",
       "      <th></th>\n",
       "      <th></th>\n",
       "      <th></th>\n",
       "      <th></th>\n",
       "    </tr>\n",
       "  </thead>\n",
       "  <tbody>\n",
       "    <tr>\n",
       "      <th rowspan=\"5\" valign=\"top\">1</th>\n",
       "      <th>1</th>\n",
       "      <td>1</td>\n",
       "      <td>New York</td>\n",
       "      <td>NY</td>\n",
       "      <td>414</td>\n",
       "      <td>1.0</td>\n",
       "      <td>125</td>\n",
       "      <td>24</td>\n",
       "      <td>Receptionist</td>\n",
       "      <td>General Administration</td>\n",
       "    </tr>\n",
       "    <tr>\n",
       "      <th>1</th>\n",
       "      <td>2</td>\n",
       "      <td>New York</td>\n",
       "      <td>NY</td>\n",
       "      <td>199</td>\n",
       "      <td>1.0</td>\n",
       "      <td>60</td>\n",
       "      <td>8</td>\n",
       "      <td>Receptionist</td>\n",
       "      <td>General Administration</td>\n",
       "    </tr>\n",
       "    <tr>\n",
       "      <th>1</th>\n",
       "      <td>3</td>\n",
       "      <td>New York</td>\n",
       "      <td>NY</td>\n",
       "      <td>527</td>\n",
       "      <td>1.0</td>\n",
       "      <td>159</td>\n",
       "      <td>13</td>\n",
       "      <td>Receptionist</td>\n",
       "      <td>General Administration</td>\n",
       "    </tr>\n",
       "    <tr>\n",
       "      <th>1</th>\n",
       "      <td>4</td>\n",
       "      <td>New York</td>\n",
       "      <td>NY</td>\n",
       "      <td>132</td>\n",
       "      <td>2.0</td>\n",
       "      <td>40</td>\n",
       "      <td>5</td>\n",
       "      <td>Receptionist</td>\n",
       "      <td>General Administration</td>\n",
       "    </tr>\n",
       "    <tr>\n",
       "      <th>1</th>\n",
       "      <td>5</td>\n",
       "      <td>New York</td>\n",
       "      <td>NY</td>\n",
       "      <td>422</td>\n",
       "      <td>3.0</td>\n",
       "      <td>127</td>\n",
       "      <td>11</td>\n",
       "      <td>Receptionist</td>\n",
       "      <td>General Administration</td>\n",
       "    </tr>\n",
       "  </tbody>\n",
       "</table>\n",
       "</div>"
      ],
      "text/plain": [
       "                       JobId      City State  DescriptionLength  \\\n",
       "CategoryId JobTitleId                                             \n",
       "1          1               1  New York    NY                414   \n",
       "           1               2  New York    NY                199   \n",
       "           1               3  New York    NY                527   \n",
       "           1               4  New York    NY                132   \n",
       "           1               5  New York    NY                422   \n",
       "\n",
       "                       EducationLevel  Clicks  Applicants  JobTitleName  \\\n",
       "CategoryId JobTitleId                                                     \n",
       "1          1                      1.0     125          24  Receptionist   \n",
       "           1                      1.0      60           8  Receptionist   \n",
       "           1                      1.0     159          13  Receptionist   \n",
       "           1                      2.0      40           5  Receptionist   \n",
       "           1                      3.0     127          11  Receptionist   \n",
       "\n",
       "                                 CategoryName  \n",
       "CategoryId JobTitleId                          \n",
       "1          1           General Administration  \n",
       "           1           General Administration  \n",
       "           1           General Administration  \n",
       "           1           General Administration  \n",
       "           1           General Administration  "
      ]
     },
     "execution_count": 4,
     "metadata": {},
     "output_type": "execute_result"
    }
   ],
   "source": [
    "df_all = df_test_job.set_index(['CategoryId','JobTitleId']).join(df_job_categ.reset_index().set_index(['CategoryId','JobTitleId']))\n",
    "df_all.head()"
   ]
  },
  {
   "cell_type": "code",
   "execution_count": 5,
   "metadata": {
    "scrolled": true
   },
   "outputs": [
    {
     "data": {
      "text/html": [
       "<div>\n",
       "<style scoped>\n",
       "    .dataframe tbody tr th:only-of-type {\n",
       "        vertical-align: middle;\n",
       "    }\n",
       "\n",
       "    .dataframe tbody tr th {\n",
       "        vertical-align: top;\n",
       "    }\n",
       "\n",
       "    .dataframe thead th {\n",
       "        text-align: right;\n",
       "    }\n",
       "</style>\n",
       "<table border=\"1\" class=\"dataframe\">\n",
       "  <thead>\n",
       "    <tr style=\"text-align: right;\">\n",
       "      <th></th>\n",
       "      <th></th>\n",
       "      <th>JobId</th>\n",
       "      <th>City</th>\n",
       "      <th>State</th>\n",
       "      <th>DescriptionLength</th>\n",
       "      <th>EducationLevel</th>\n",
       "      <th>Clicks</th>\n",
       "      <th>Applicants</th>\n",
       "      <th>JobTitleName</th>\n",
       "      <th>CategoryName</th>\n",
       "    </tr>\n",
       "    <tr>\n",
       "      <th>CategoryId</th>\n",
       "      <th>JobTitleId</th>\n",
       "      <th></th>\n",
       "      <th></th>\n",
       "      <th></th>\n",
       "      <th></th>\n",
       "      <th></th>\n",
       "      <th></th>\n",
       "      <th></th>\n",
       "      <th></th>\n",
       "      <th></th>\n",
       "    </tr>\n",
       "  </thead>\n",
       "  <tbody>\n",
       "    <tr>\n",
       "      <th rowspan=\"2\" valign=\"top\">1</th>\n",
       "      <th>1</th>\n",
       "      <td>13</td>\n",
       "      <td>Syracuse</td>\n",
       "      <td>NY</td>\n",
       "      <td>378</td>\n",
       "      <td>NaN</td>\n",
       "      <td>114</td>\n",
       "      <td>11</td>\n",
       "      <td>Receptionist</td>\n",
       "      <td>General Administration</td>\n",
       "    </tr>\n",
       "    <tr>\n",
       "      <th>4</th>\n",
       "      <td>315</td>\n",
       "      <td>Syracuse</td>\n",
       "      <td>NY</td>\n",
       "      <td>311</td>\n",
       "      <td>3.0</td>\n",
       "      <td>94</td>\n",
       "      <td>7</td>\n",
       "      <td>NaN</td>\n",
       "      <td>NaN</td>\n",
       "    </tr>\n",
       "    <tr>\n",
       "      <th>3</th>\n",
       "      <th>12</th>\n",
       "      <td>798</td>\n",
       "      <td>Boston</td>\n",
       "      <td>MA</td>\n",
       "      <td>700</td>\n",
       "      <td>3.0</td>\n",
       "      <td>210</td>\n",
       "      <td>26</td>\n",
       "      <td>NaN</td>\n",
       "      <td>NaN</td>\n",
       "    </tr>\n",
       "    <tr>\n",
       "      <th>5</th>\n",
       "      <th>4</th>\n",
       "      <td>314</td>\n",
       "      <td>Syracuse</td>\n",
       "      <td>NY</td>\n",
       "      <td>480</td>\n",
       "      <td>1.0</td>\n",
       "      <td>144</td>\n",
       "      <td>8</td>\n",
       "      <td>NaN</td>\n",
       "      <td>NaN</td>\n",
       "    </tr>\n",
       "  </tbody>\n",
       "</table>\n",
       "</div>"
      ],
      "text/plain": [
       "                       JobId      City State  DescriptionLength  \\\n",
       "CategoryId JobTitleId                                             \n",
       "1          1              13  Syracuse    NY                378   \n",
       "           4             315  Syracuse    NY                311   \n",
       "3          12            798    Boston    MA                700   \n",
       "5          4             314  Syracuse    NY                480   \n",
       "\n",
       "                       EducationLevel  Clicks  Applicants  JobTitleName  \\\n",
       "CategoryId JobTitleId                                                     \n",
       "1          1                      NaN     114          11  Receptionist   \n",
       "           4                      3.0      94           7           NaN   \n",
       "3          12                     3.0     210          26           NaN   \n",
       "5          4                      1.0     144           8           NaN   \n",
       "\n",
       "                                 CategoryName  \n",
       "CategoryId JobTitleId                          \n",
       "1          1           General Administration  \n",
       "           4                              NaN  \n",
       "3          12                             NaN  \n",
       "5          4                              NaN  "
      ]
     },
     "execution_count": 5,
     "metadata": {},
     "output_type": "execute_result"
    }
   ],
   "source": [
    "#All Nulls is dataset\n",
    "df_all[df_all.isnull().any(axis=1)]"
   ]
  },
  {
   "cell_type": "code",
   "execution_count": 6,
   "metadata": {
    "scrolled": true
   },
   "outputs": [
    {
     "data": {
      "text/html": [
       "<div>\n",
       "<style scoped>\n",
       "    .dataframe tbody tr th:only-of-type {\n",
       "        vertical-align: middle;\n",
       "    }\n",
       "\n",
       "    .dataframe tbody tr th {\n",
       "        vertical-align: top;\n",
       "    }\n",
       "\n",
       "    .dataframe thead th {\n",
       "        text-align: right;\n",
       "    }\n",
       "</style>\n",
       "<table border=\"1\" class=\"dataframe\">\n",
       "  <thead>\n",
       "    <tr style=\"text-align: right;\">\n",
       "      <th></th>\n",
       "      <th>Total</th>\n",
       "      <th>Percent</th>\n",
       "    </tr>\n",
       "  </thead>\n",
       "  <tbody>\n",
       "    <tr>\n",
       "      <th>CategoryName</th>\n",
       "      <td>3</td>\n",
       "      <td>0.003</td>\n",
       "    </tr>\n",
       "    <tr>\n",
       "      <th>JobTitleName</th>\n",
       "      <td>3</td>\n",
       "      <td>0.003</td>\n",
       "    </tr>\n",
       "    <tr>\n",
       "      <th>EducationLevel</th>\n",
       "      <td>1</td>\n",
       "      <td>0.001</td>\n",
       "    </tr>\n",
       "    <tr>\n",
       "      <th>Applicants</th>\n",
       "      <td>0</td>\n",
       "      <td>0.000</td>\n",
       "    </tr>\n",
       "    <tr>\n",
       "      <th>Clicks</th>\n",
       "      <td>0</td>\n",
       "      <td>0.000</td>\n",
       "    </tr>\n",
       "    <tr>\n",
       "      <th>DescriptionLength</th>\n",
       "      <td>0</td>\n",
       "      <td>0.000</td>\n",
       "    </tr>\n",
       "    <tr>\n",
       "      <th>State</th>\n",
       "      <td>0</td>\n",
       "      <td>0.000</td>\n",
       "    </tr>\n",
       "    <tr>\n",
       "      <th>City</th>\n",
       "      <td>0</td>\n",
       "      <td>0.000</td>\n",
       "    </tr>\n",
       "    <tr>\n",
       "      <th>JobId</th>\n",
       "      <td>0</td>\n",
       "      <td>0.000</td>\n",
       "    </tr>\n",
       "  </tbody>\n",
       "</table>\n",
       "</div>"
      ],
      "text/plain": [
       "                   Total  Percent\n",
       "CategoryName           3    0.003\n",
       "JobTitleName           3    0.003\n",
       "EducationLevel         1    0.001\n",
       "Applicants             0    0.000\n",
       "Clicks                 0    0.000\n",
       "DescriptionLength      0    0.000\n",
       "State                  0    0.000\n",
       "City                   0    0.000\n",
       "JobId                  0    0.000"
      ]
     },
     "execution_count": 6,
     "metadata": {},
     "output_type": "execute_result"
    }
   ],
   "source": [
    "# Percentage of Nulls in dataset per columns\n",
    "total = df_all.isnull().sum().sort_values(ascending=False)\n",
    "percent = (df_all.isnull().sum()/df_all.isnull().count()).sort_values(ascending=False)\n",
    "missing_data = pd.concat([total, percent], axis=1, keys=['Total', 'Percent'])\n",
    "missing_data.head(10)"
   ]
  },
  {
   "cell_type": "markdown",
   "metadata": {},
   "source": [
    "# Question 2 \n"
   ]
  },
  {
   "cell_type": "markdown",
   "metadata": {},
   "source": [
    "# Data integrity :\n",
    "i need to validate data first, clean data, and only then i can answer Q1 and predict data in Q3"
   ]
  },
  {
   "cell_type": "markdown",
   "metadata": {},
   "source": [
    "# Issue 1: There is no category 5 (JobID= 314)"
   ]
  },
  {
   "cell_type": "code",
   "execution_count": 7,
   "metadata": {
    "scrolled": true
   },
   "outputs": [
    {
     "data": {
      "text/html": [
       "<div>\n",
       "<style scoped>\n",
       "    .dataframe tbody tr th:only-of-type {\n",
       "        vertical-align: middle;\n",
       "    }\n",
       "\n",
       "    .dataframe tbody tr th {\n",
       "        vertical-align: top;\n",
       "    }\n",
       "\n",
       "    .dataframe thead th {\n",
       "        text-align: right;\n",
       "    }\n",
       "</style>\n",
       "<table border=\"1\" class=\"dataframe\">\n",
       "  <thead>\n",
       "    <tr style=\"text-align: right;\">\n",
       "      <th></th>\n",
       "      <th></th>\n",
       "      <th>JobId</th>\n",
       "      <th>City</th>\n",
       "      <th>State</th>\n",
       "      <th>DescriptionLength</th>\n",
       "      <th>EducationLevel</th>\n",
       "      <th>Clicks</th>\n",
       "      <th>Applicants</th>\n",
       "      <th>JobTitleName</th>\n",
       "      <th>CategoryName</th>\n",
       "    </tr>\n",
       "    <tr>\n",
       "      <th>CategoryId</th>\n",
       "      <th>JobTitleId</th>\n",
       "      <th></th>\n",
       "      <th></th>\n",
       "      <th></th>\n",
       "      <th></th>\n",
       "      <th></th>\n",
       "      <th></th>\n",
       "      <th></th>\n",
       "      <th></th>\n",
       "      <th></th>\n",
       "    </tr>\n",
       "  </thead>\n",
       "  <tbody>\n",
       "    <tr>\n",
       "      <th>5</th>\n",
       "      <th>4</th>\n",
       "      <td>314</td>\n",
       "      <td>Syracuse</td>\n",
       "      <td>NY</td>\n",
       "      <td>480</td>\n",
       "      <td>1.0</td>\n",
       "      <td>144</td>\n",
       "      <td>8</td>\n",
       "      <td>NaN</td>\n",
       "      <td>NaN</td>\n",
       "    </tr>\n",
       "  </tbody>\n",
       "</table>\n",
       "</div>"
      ],
      "text/plain": [
       "                       JobId      City State  DescriptionLength  \\\n",
       "CategoryId JobTitleId                                             \n",
       "5          4             314  Syracuse    NY                480   \n",
       "\n",
       "                       EducationLevel  Clicks  Applicants JobTitleName  \\\n",
       "CategoryId JobTitleId                                                    \n",
       "5          4                      1.0     144           8          NaN   \n",
       "\n",
       "                      CategoryName  \n",
       "CategoryId JobTitleId               \n",
       "5          4                   NaN  "
      ]
     },
     "execution_count": 7,
     "metadata": {},
     "output_type": "execute_result"
    }
   ],
   "source": [
    "df_all.query('CategoryId == 5')"
   ]
  },
  {
   "cell_type": "markdown",
   "metadata": {},
   "source": [
    "#Handling issue 1.1 bad merge 'JobTitleName' and 'CategoryName' no such category as 5"
   ]
  },
  {
   "cell_type": "code",
   "execution_count": 8,
   "metadata": {},
   "outputs": [],
   "source": [
    "df_test_job = df_test_job.set_index('JobId')"
   ]
  },
  {
   "cell_type": "code",
   "execution_count": 9,
   "metadata": {},
   "outputs": [
    {
     "data": {
      "text/html": [
       "<div>\n",
       "<style scoped>\n",
       "    .dataframe tbody tr th:only-of-type {\n",
       "        vertical-align: middle;\n",
       "    }\n",
       "\n",
       "    .dataframe tbody tr th {\n",
       "        vertical-align: top;\n",
       "    }\n",
       "\n",
       "    .dataframe thead th {\n",
       "        text-align: right;\n",
       "    }\n",
       "</style>\n",
       "<table border=\"1\" class=\"dataframe\">\n",
       "  <thead>\n",
       "    <tr style=\"text-align: right;\">\n",
       "      <th></th>\n",
       "      <th>314</th>\n",
       "    </tr>\n",
       "  </thead>\n",
       "  <tbody>\n",
       "    <tr>\n",
       "      <th>JobTitleId</th>\n",
       "      <td>4</td>\n",
       "    </tr>\n",
       "    <tr>\n",
       "      <th>CategoryId</th>\n",
       "      <td>2</td>\n",
       "    </tr>\n",
       "    <tr>\n",
       "      <th>City</th>\n",
       "      <td>Syracuse</td>\n",
       "    </tr>\n",
       "    <tr>\n",
       "      <th>State</th>\n",
       "      <td>NY</td>\n",
       "    </tr>\n",
       "    <tr>\n",
       "      <th>DescriptionLength</th>\n",
       "      <td>480</td>\n",
       "    </tr>\n",
       "    <tr>\n",
       "      <th>EducationLevel</th>\n",
       "      <td>1</td>\n",
       "    </tr>\n",
       "    <tr>\n",
       "      <th>Clicks</th>\n",
       "      <td>144</td>\n",
       "    </tr>\n",
       "    <tr>\n",
       "      <th>Applicants</th>\n",
       "      <td>8</td>\n",
       "    </tr>\n",
       "  </tbody>\n",
       "</table>\n",
       "</div>"
      ],
      "text/plain": [
       "                        314\n",
       "JobTitleId                4\n",
       "CategoryId                2\n",
       "City               Syracuse\n",
       "State                    NY\n",
       "DescriptionLength       480\n",
       "EducationLevel            1\n",
       "Clicks                  144\n",
       "Applicants                8"
      ]
     },
     "execution_count": 9,
     "metadata": {},
     "output_type": "execute_result"
    }
   ],
   "source": [
    "df_test_job.loc[314, 'CategoryId'] =df_job_titles.query('JobTitleId == %s'%df_test_job.loc[314, 'JobTitleId'])['CategoryId'].values[0]\n",
    "df_test_job.loc[314].to_frame()"
   ]
  },
  {
   "cell_type": "code",
   "execution_count": 10,
   "metadata": {
    "scrolled": false
   },
   "outputs": [
    {
     "data": {
      "text/html": [
       "<div>\n",
       "<style scoped>\n",
       "    .dataframe tbody tr th:only-of-type {\n",
       "        vertical-align: middle;\n",
       "    }\n",
       "\n",
       "    .dataframe tbody tr th {\n",
       "        vertical-align: top;\n",
       "    }\n",
       "\n",
       "    .dataframe thead th {\n",
       "        text-align: right;\n",
       "    }\n",
       "</style>\n",
       "<table border=\"1\" class=\"dataframe\">\n",
       "  <thead>\n",
       "    <tr style=\"text-align: right;\">\n",
       "      <th></th>\n",
       "      <th></th>\n",
       "      <th>JobId</th>\n",
       "      <th>City</th>\n",
       "      <th>State</th>\n",
       "      <th>DescriptionLength</th>\n",
       "      <th>EducationLevel</th>\n",
       "      <th>Clicks</th>\n",
       "      <th>Applicants</th>\n",
       "      <th>JobTitleName</th>\n",
       "      <th>CategoryName</th>\n",
       "    </tr>\n",
       "    <tr>\n",
       "      <th>CategoryId</th>\n",
       "      <th>JobTitleId</th>\n",
       "      <th></th>\n",
       "      <th></th>\n",
       "      <th></th>\n",
       "      <th></th>\n",
       "      <th></th>\n",
       "      <th></th>\n",
       "      <th></th>\n",
       "      <th></th>\n",
       "      <th></th>\n",
       "    </tr>\n",
       "  </thead>\n",
       "  <tbody>\n",
       "    <tr>\n",
       "      <th rowspan=\"2\" valign=\"top\">1</th>\n",
       "      <th>1</th>\n",
       "      <td>13</td>\n",
       "      <td>Syracuse</td>\n",
       "      <td>NY</td>\n",
       "      <td>378</td>\n",
       "      <td>NaN</td>\n",
       "      <td>114</td>\n",
       "      <td>11</td>\n",
       "      <td>Receptionist</td>\n",
       "      <td>General Administration</td>\n",
       "    </tr>\n",
       "    <tr>\n",
       "      <th>4</th>\n",
       "      <td>315</td>\n",
       "      <td>Syracuse</td>\n",
       "      <td>NY</td>\n",
       "      <td>311</td>\n",
       "      <td>3.0</td>\n",
       "      <td>94</td>\n",
       "      <td>7</td>\n",
       "      <td>NaN</td>\n",
       "      <td>NaN</td>\n",
       "    </tr>\n",
       "    <tr>\n",
       "      <th>3</th>\n",
       "      <th>12</th>\n",
       "      <td>798</td>\n",
       "      <td>Boston</td>\n",
       "      <td>MA</td>\n",
       "      <td>700</td>\n",
       "      <td>3.0</td>\n",
       "      <td>210</td>\n",
       "      <td>26</td>\n",
       "      <td>NaN</td>\n",
       "      <td>NaN</td>\n",
       "    </tr>\n",
       "  </tbody>\n",
       "</table>\n",
       "</div>"
      ],
      "text/plain": [
       "                       JobId      City State  DescriptionLength  \\\n",
       "CategoryId JobTitleId                                             \n",
       "1          1              13  Syracuse    NY                378   \n",
       "           4             315  Syracuse    NY                311   \n",
       "3          12            798    Boston    MA                700   \n",
       "\n",
       "                       EducationLevel  Clicks  Applicants  JobTitleName  \\\n",
       "CategoryId JobTitleId                                                     \n",
       "1          1                      NaN     114          11  Receptionist   \n",
       "           4                      3.0      94           7           NaN   \n",
       "3          12                     3.0     210          26           NaN   \n",
       "\n",
       "                                 CategoryName  \n",
       "CategoryId JobTitleId                          \n",
       "1          1           General Administration  \n",
       "           4                              NaN  \n",
       "3          12                             NaN  "
      ]
     },
     "execution_count": 10,
     "metadata": {},
     "output_type": "execute_result"
    }
   ],
   "source": [
    "#regenarate df_all\n",
    "df_all = df_test_job.reset_index().set_index(['CategoryId','JobTitleId']).join(df_job_categ.reset_index().set_index(['CategoryId','JobTitleId']))\n",
    "df_all[df_all.isnull().any(axis=1)]"
   ]
  },
  {
   "cell_type": "markdown",
   "metadata": {},
   "source": [
    "# Issue 2 : \tNo JobTitleId = 12 , bad merge 'JobTitleName' and 'CategoryName' (JobID = 798)"
   ]
  },
  {
   "cell_type": "code",
   "execution_count": 11,
   "metadata": {
    "scrolled": true
   },
   "outputs": [
    {
     "data": {
      "text/html": [
       "<div>\n",
       "<style scoped>\n",
       "    .dataframe tbody tr th:only-of-type {\n",
       "        vertical-align: middle;\n",
       "    }\n",
       "\n",
       "    .dataframe tbody tr th {\n",
       "        vertical-align: top;\n",
       "    }\n",
       "\n",
       "    .dataframe thead th {\n",
       "        text-align: right;\n",
       "    }\n",
       "</style>\n",
       "<table border=\"1\" class=\"dataframe\">\n",
       "  <thead>\n",
       "    <tr style=\"text-align: right;\">\n",
       "      <th></th>\n",
       "      <th></th>\n",
       "      <th>JobId</th>\n",
       "      <th>City</th>\n",
       "      <th>State</th>\n",
       "      <th>DescriptionLength</th>\n",
       "      <th>EducationLevel</th>\n",
       "      <th>Clicks</th>\n",
       "      <th>Applicants</th>\n",
       "      <th>JobTitleName</th>\n",
       "      <th>CategoryName</th>\n",
       "    </tr>\n",
       "    <tr>\n",
       "      <th>CategoryId</th>\n",
       "      <th>JobTitleId</th>\n",
       "      <th></th>\n",
       "      <th></th>\n",
       "      <th></th>\n",
       "      <th></th>\n",
       "      <th></th>\n",
       "      <th></th>\n",
       "      <th></th>\n",
       "      <th></th>\n",
       "      <th></th>\n",
       "    </tr>\n",
       "  </thead>\n",
       "  <tbody>\n",
       "    <tr>\n",
       "      <th rowspan=\"17\" valign=\"top\">3</th>\n",
       "      <th>10</th>\n",
       "      <td>995</td>\n",
       "      <td>Boston</td>\n",
       "      <td>MA</td>\n",
       "      <td>120</td>\n",
       "      <td>3.0</td>\n",
       "      <td>36</td>\n",
       "      <td>5</td>\n",
       "      <td>Field Engineering Technician</td>\n",
       "      <td>Civil Engineering</td>\n",
       "    </tr>\n",
       "    <tr>\n",
       "      <th>10</th>\n",
       "      <td>990</td>\n",
       "      <td>Boston</td>\n",
       "      <td>MA</td>\n",
       "      <td>141</td>\n",
       "      <td>3.0</td>\n",
       "      <td>43</td>\n",
       "      <td>8</td>\n",
       "      <td>Field Engineering Technician</td>\n",
       "      <td>Civil Engineering</td>\n",
       "    </tr>\n",
       "    <tr>\n",
       "      <th>7</th>\n",
       "      <td>700</td>\n",
       "      <td>Boston</td>\n",
       "      <td>MA</td>\n",
       "      <td>211</td>\n",
       "      <td>3.0</td>\n",
       "      <td>64</td>\n",
       "      <td>12</td>\n",
       "      <td>Civil Engineer</td>\n",
       "      <td>Civil Engineering</td>\n",
       "    </tr>\n",
       "    <tr>\n",
       "      <th>7</th>\n",
       "      <td>695</td>\n",
       "      <td>Boston</td>\n",
       "      <td>MA</td>\n",
       "      <td>285</td>\n",
       "      <td>3.0</td>\n",
       "      <td>86</td>\n",
       "      <td>6</td>\n",
       "      <td>Civil Engineer</td>\n",
       "      <td>Civil Engineering</td>\n",
       "    </tr>\n",
       "    <tr>\n",
       "      <th>8</th>\n",
       "      <td>799</td>\n",
       "      <td>Boston</td>\n",
       "      <td>MA</td>\n",
       "      <td>321</td>\n",
       "      <td>3.0</td>\n",
       "      <td>97</td>\n",
       "      <td>10</td>\n",
       "      <td>Traffic Engineer</td>\n",
       "      <td>Civil Engineering</td>\n",
       "    </tr>\n",
       "    <tr>\n",
       "      <th>8</th>\n",
       "      <td>790</td>\n",
       "      <td>Boston</td>\n",
       "      <td>MA</td>\n",
       "      <td>324</td>\n",
       "      <td>3.0</td>\n",
       "      <td>98</td>\n",
       "      <td>14</td>\n",
       "      <td>Traffic Engineer</td>\n",
       "      <td>Civil Engineering</td>\n",
       "    </tr>\n",
       "    <tr>\n",
       "      <th>9</th>\n",
       "      <td>893</td>\n",
       "      <td>Boston</td>\n",
       "      <td>MA</td>\n",
       "      <td>340</td>\n",
       "      <td>3.0</td>\n",
       "      <td>102</td>\n",
       "      <td>12</td>\n",
       "      <td>Environmental Manager</td>\n",
       "      <td>Civil Engineering</td>\n",
       "    </tr>\n",
       "    <tr>\n",
       "      <th>10</th>\n",
       "      <td>996</td>\n",
       "      <td>Boston</td>\n",
       "      <td>MA</td>\n",
       "      <td>542</td>\n",
       "      <td>3.0</td>\n",
       "      <td>163</td>\n",
       "      <td>25</td>\n",
       "      <td>Field Engineering Technician</td>\n",
       "      <td>Civil Engineering</td>\n",
       "    </tr>\n",
       "    <tr>\n",
       "      <th>8</th>\n",
       "      <td>796</td>\n",
       "      <td>Boston</td>\n",
       "      <td>MA</td>\n",
       "      <td>561</td>\n",
       "      <td>3.0</td>\n",
       "      <td>169</td>\n",
       "      <td>14</td>\n",
       "      <td>Traffic Engineer</td>\n",
       "      <td>Civil Engineering</td>\n",
       "    </tr>\n",
       "    <tr>\n",
       "      <th>8</th>\n",
       "      <td>793</td>\n",
       "      <td>Boston</td>\n",
       "      <td>MA</td>\n",
       "      <td>564</td>\n",
       "      <td>3.0</td>\n",
       "      <td>170</td>\n",
       "      <td>21</td>\n",
       "      <td>Traffic Engineer</td>\n",
       "      <td>Civil Engineering</td>\n",
       "    </tr>\n",
       "    <tr>\n",
       "      <th>8</th>\n",
       "      <td>795</td>\n",
       "      <td>Boston</td>\n",
       "      <td>MA</td>\n",
       "      <td>570</td>\n",
       "      <td>3.0</td>\n",
       "      <td>171</td>\n",
       "      <td>23</td>\n",
       "      <td>Traffic Engineer</td>\n",
       "      <td>Civil Engineering</td>\n",
       "    </tr>\n",
       "    <tr>\n",
       "      <th>12</th>\n",
       "      <td>798</td>\n",
       "      <td>Boston</td>\n",
       "      <td>MA</td>\n",
       "      <td>700</td>\n",
       "      <td>3.0</td>\n",
       "      <td>210</td>\n",
       "      <td>26</td>\n",
       "      <td>NaN</td>\n",
       "      <td>NaN</td>\n",
       "    </tr>\n",
       "    <tr>\n",
       "      <th>10</th>\n",
       "      <td>999</td>\n",
       "      <td>Boston</td>\n",
       "      <td>MA</td>\n",
       "      <td>701</td>\n",
       "      <td>3.0</td>\n",
       "      <td>211</td>\n",
       "      <td>17</td>\n",
       "      <td>Field Engineering Technician</td>\n",
       "      <td>Civil Engineering</td>\n",
       "    </tr>\n",
       "    <tr>\n",
       "      <th>8</th>\n",
       "      <td>797</td>\n",
       "      <td>Boston</td>\n",
       "      <td>MA</td>\n",
       "      <td>803</td>\n",
       "      <td>3.0</td>\n",
       "      <td>241</td>\n",
       "      <td>34</td>\n",
       "      <td>Traffic Engineer</td>\n",
       "      <td>Civil Engineering</td>\n",
       "    </tr>\n",
       "    <tr>\n",
       "      <th>7</th>\n",
       "      <td>696</td>\n",
       "      <td>Boston</td>\n",
       "      <td>MA</td>\n",
       "      <td>804</td>\n",
       "      <td>3.0</td>\n",
       "      <td>242</td>\n",
       "      <td>34</td>\n",
       "      <td>Civil Engineer</td>\n",
       "      <td>Civil Engineering</td>\n",
       "    </tr>\n",
       "    <tr>\n",
       "      <th>10</th>\n",
       "      <td>997</td>\n",
       "      <td>Boston</td>\n",
       "      <td>MA</td>\n",
       "      <td>875</td>\n",
       "      <td>3.0</td>\n",
       "      <td>263</td>\n",
       "      <td>16</td>\n",
       "      <td>Field Engineering Technician</td>\n",
       "      <td>Civil Engineering</td>\n",
       "    </tr>\n",
       "    <tr>\n",
       "      <th>9</th>\n",
       "      <td>897</td>\n",
       "      <td>Boston</td>\n",
       "      <td>MA</td>\n",
       "      <td>896</td>\n",
       "      <td>3.0</td>\n",
       "      <td>269</td>\n",
       "      <td>25</td>\n",
       "      <td>Environmental Manager</td>\n",
       "      <td>Civil Engineering</td>\n",
       "    </tr>\n",
       "  </tbody>\n",
       "</table>\n",
       "</div>"
      ],
      "text/plain": [
       "                       JobId    City State  DescriptionLength  EducationLevel  \\\n",
       "CategoryId JobTitleId                                                           \n",
       "3          10            995  Boston    MA                120             3.0   \n",
       "           10            990  Boston    MA                141             3.0   \n",
       "           7             700  Boston    MA                211             3.0   \n",
       "           7             695  Boston    MA                285             3.0   \n",
       "           8             799  Boston    MA                321             3.0   \n",
       "           8             790  Boston    MA                324             3.0   \n",
       "           9             893  Boston    MA                340             3.0   \n",
       "           10            996  Boston    MA                542             3.0   \n",
       "           8             796  Boston    MA                561             3.0   \n",
       "           8             793  Boston    MA                564             3.0   \n",
       "           8             795  Boston    MA                570             3.0   \n",
       "           12            798  Boston    MA                700             3.0   \n",
       "           10            999  Boston    MA                701             3.0   \n",
       "           8             797  Boston    MA                803             3.0   \n",
       "           7             696  Boston    MA                804             3.0   \n",
       "           10            997  Boston    MA                875             3.0   \n",
       "           9             897  Boston    MA                896             3.0   \n",
       "\n",
       "                       Clicks  Applicants                  JobTitleName  \\\n",
       "CategoryId JobTitleId                                                     \n",
       "3          10              36           5  Field Engineering Technician   \n",
       "           10              43           8  Field Engineering Technician   \n",
       "           7               64          12                Civil Engineer   \n",
       "           7               86           6                Civil Engineer   \n",
       "           8               97          10              Traffic Engineer   \n",
       "           8               98          14              Traffic Engineer   \n",
       "           9              102          12         Environmental Manager   \n",
       "           10             163          25  Field Engineering Technician   \n",
       "           8              169          14              Traffic Engineer   \n",
       "           8              170          21              Traffic Engineer   \n",
       "           8              171          23              Traffic Engineer   \n",
       "           12             210          26                           NaN   \n",
       "           10             211          17  Field Engineering Technician   \n",
       "           8              241          34              Traffic Engineer   \n",
       "           7              242          34                Civil Engineer   \n",
       "           10             263          16  Field Engineering Technician   \n",
       "           9              269          25         Environmental Manager   \n",
       "\n",
       "                            CategoryName  \n",
       "CategoryId JobTitleId                     \n",
       "3          10          Civil Engineering  \n",
       "           10          Civil Engineering  \n",
       "           7           Civil Engineering  \n",
       "           7           Civil Engineering  \n",
       "           8           Civil Engineering  \n",
       "           8           Civil Engineering  \n",
       "           9           Civil Engineering  \n",
       "           10          Civil Engineering  \n",
       "           8           Civil Engineering  \n",
       "           8           Civil Engineering  \n",
       "           8           Civil Engineering  \n",
       "           12                        NaN  \n",
       "           10          Civil Engineering  \n",
       "           8           Civil Engineering  \n",
       "           7           Civil Engineering  \n",
       "           10          Civil Engineering  \n",
       "           9           Civil Engineering  "
      ]
     },
     "execution_count": 11,
     "metadata": {},
     "output_type": "execute_result"
    }
   ],
   "source": [
    "df_all.query('CategoryId==3 and State==\"MA\" and EducationLevel==3 and City==\"Boston\"').sort_values('DescriptionLength')"
   ]
  },
  {
   "cell_type": "markdown",
   "metadata": {},
   "source": [
    "#Handling issue 1.2"
   ]
  },
  {
   "cell_type": "code",
   "execution_count": 12,
   "metadata": {},
   "outputs": [
    {
     "data": {
      "text/plain": [
       "JobTitleId               10\n",
       "CategoryId                3\n",
       "City                 Boston\n",
       "State                    MA\n",
       "DescriptionLength       700\n",
       "EducationLevel            3\n",
       "Clicks                  210\n",
       "Applicants               26\n",
       "Name: 798, dtype: object"
      ]
     },
     "execution_count": 12,
     "metadata": {},
     "output_type": "execute_result"
    }
   ],
   "source": [
    " \n",
    "df_test_job = df_test_job.reset_index().set_index('JobId')\n",
    "df_test_job.loc[798, 'JobTitleId'] = 10 # my best guess is that it is probably 'Field Engineering Technician'\n",
    "df_test_job.loc[798] "
   ]
  },
  {
   "cell_type": "code",
   "execution_count": 13,
   "metadata": {
    "scrolled": true
   },
   "outputs": [
    {
     "data": {
      "text/html": [
       "<div>\n",
       "<style scoped>\n",
       "    .dataframe tbody tr th:only-of-type {\n",
       "        vertical-align: middle;\n",
       "    }\n",
       "\n",
       "    .dataframe tbody tr th {\n",
       "        vertical-align: top;\n",
       "    }\n",
       "\n",
       "    .dataframe thead th {\n",
       "        text-align: right;\n",
       "    }\n",
       "</style>\n",
       "<table border=\"1\" class=\"dataframe\">\n",
       "  <thead>\n",
       "    <tr style=\"text-align: right;\">\n",
       "      <th></th>\n",
       "      <th></th>\n",
       "      <th>JobId</th>\n",
       "      <th>City</th>\n",
       "      <th>State</th>\n",
       "      <th>DescriptionLength</th>\n",
       "      <th>EducationLevel</th>\n",
       "      <th>Clicks</th>\n",
       "      <th>Applicants</th>\n",
       "      <th>JobTitleName</th>\n",
       "      <th>CategoryName</th>\n",
       "    </tr>\n",
       "    <tr>\n",
       "      <th>CategoryId</th>\n",
       "      <th>JobTitleId</th>\n",
       "      <th></th>\n",
       "      <th></th>\n",
       "      <th></th>\n",
       "      <th></th>\n",
       "      <th></th>\n",
       "      <th></th>\n",
       "      <th></th>\n",
       "      <th></th>\n",
       "      <th></th>\n",
       "    </tr>\n",
       "  </thead>\n",
       "  <tbody>\n",
       "    <tr>\n",
       "      <th rowspan=\"2\" valign=\"top\">1</th>\n",
       "      <th>1</th>\n",
       "      <td>13</td>\n",
       "      <td>Syracuse</td>\n",
       "      <td>NY</td>\n",
       "      <td>378</td>\n",
       "      <td>NaN</td>\n",
       "      <td>114</td>\n",
       "      <td>11</td>\n",
       "      <td>Receptionist</td>\n",
       "      <td>General Administration</td>\n",
       "    </tr>\n",
       "    <tr>\n",
       "      <th>4</th>\n",
       "      <td>315</td>\n",
       "      <td>Syracuse</td>\n",
       "      <td>NY</td>\n",
       "      <td>311</td>\n",
       "      <td>3.0</td>\n",
       "      <td>94</td>\n",
       "      <td>7</td>\n",
       "      <td>NaN</td>\n",
       "      <td>NaN</td>\n",
       "    </tr>\n",
       "  </tbody>\n",
       "</table>\n",
       "</div>"
      ],
      "text/plain": [
       "                       JobId      City State  DescriptionLength  \\\n",
       "CategoryId JobTitleId                                             \n",
       "1          1              13  Syracuse    NY                378   \n",
       "           4             315  Syracuse    NY                311   \n",
       "\n",
       "                       EducationLevel  Clicks  Applicants  JobTitleName  \\\n",
       "CategoryId JobTitleId                                                     \n",
       "1          1                      NaN     114          11  Receptionist   \n",
       "           4                      3.0      94           7           NaN   \n",
       "\n",
       "                                 CategoryName  \n",
       "CategoryId JobTitleId                          \n",
       "1          1           General Administration  \n",
       "           4                              NaN  "
      ]
     },
     "execution_count": 13,
     "metadata": {},
     "output_type": "execute_result"
    }
   ],
   "source": [
    "#regenarate df_all\n",
    "df_all = df_test_job.reset_index().set_index(['CategoryId','JobTitleId']).join(df_job_categ.reset_index().set_index(['CategoryId','JobTitleId']))\n",
    "\n",
    "df_all[df_all.isnull().any(axis=1)]"
   ]
  },
  {
   "cell_type": "markdown",
   "metadata": {},
   "source": [
    "# Issue 3 : Bad combination of 'JobTitleId' and\t'CategoryId' (JobID= 315)"
   ]
  },
  {
   "cell_type": "code",
   "execution_count": 14,
   "metadata": {
    "scrolled": true
   },
   "outputs": [
    {
     "data": {
      "text/html": [
       "<div>\n",
       "<style scoped>\n",
       "    .dataframe tbody tr th:only-of-type {\n",
       "        vertical-align: middle;\n",
       "    }\n",
       "\n",
       "    .dataframe tbody tr th {\n",
       "        vertical-align: top;\n",
       "    }\n",
       "\n",
       "    .dataframe thead th {\n",
       "        text-align: right;\n",
       "    }\n",
       "</style>\n",
       "<table border=\"1\" class=\"dataframe\">\n",
       "  <thead>\n",
       "    <tr style=\"text-align: right;\">\n",
       "      <th></th>\n",
       "      <th></th>\n",
       "      <th>JobId</th>\n",
       "      <th>City</th>\n",
       "      <th>State</th>\n",
       "      <th>DescriptionLength</th>\n",
       "      <th>EducationLevel</th>\n",
       "      <th>Clicks</th>\n",
       "      <th>Applicants</th>\n",
       "      <th>JobTitleName</th>\n",
       "      <th>CategoryName</th>\n",
       "    </tr>\n",
       "    <tr>\n",
       "      <th>CategoryId</th>\n",
       "      <th>JobTitleId</th>\n",
       "      <th></th>\n",
       "      <th></th>\n",
       "      <th></th>\n",
       "      <th></th>\n",
       "      <th></th>\n",
       "      <th></th>\n",
       "      <th></th>\n",
       "      <th></th>\n",
       "      <th></th>\n",
       "    </tr>\n",
       "  </thead>\n",
       "  <tbody>\n",
       "    <tr>\n",
       "      <th>1</th>\n",
       "      <th>4</th>\n",
       "      <td>315</td>\n",
       "      <td>Syracuse</td>\n",
       "      <td>NY</td>\n",
       "      <td>311</td>\n",
       "      <td>3.0</td>\n",
       "      <td>94</td>\n",
       "      <td>7</td>\n",
       "      <td>NaN</td>\n",
       "      <td>NaN</td>\n",
       "    </tr>\n",
       "  </tbody>\n",
       "</table>\n",
       "</div>"
      ],
      "text/plain": [
       "                       JobId      City State  DescriptionLength  \\\n",
       "CategoryId JobTitleId                                             \n",
       "1          4             315  Syracuse    NY                311   \n",
       "\n",
       "                       EducationLevel  Clicks  Applicants JobTitleName  \\\n",
       "CategoryId JobTitleId                                                    \n",
       "1          4                      3.0      94           7          NaN   \n",
       "\n",
       "                      CategoryName  \n",
       "CategoryId JobTitleId               \n",
       "1          4                   NaN  "
      ]
     },
     "execution_count": 14,
     "metadata": {},
     "output_type": "execute_result"
    }
   ],
   "source": [
    "df_all.query('JobId == 315') "
   ]
  },
  {
   "cell_type": "markdown",
   "metadata": {},
   "source": [
    "#Handling issue 1.3"
   ]
  },
  {
   "cell_type": "code",
   "execution_count": 15,
   "metadata": {},
   "outputs": [
    {
     "data": {
      "text/html": [
       "<div>\n",
       "<style scoped>\n",
       "    .dataframe tbody tr th:only-of-type {\n",
       "        vertical-align: middle;\n",
       "    }\n",
       "\n",
       "    .dataframe tbody tr th {\n",
       "        vertical-align: top;\n",
       "    }\n",
       "\n",
       "    .dataframe thead th {\n",
       "        text-align: right;\n",
       "    }\n",
       "</style>\n",
       "<table border=\"1\" class=\"dataframe\">\n",
       "  <thead>\n",
       "    <tr style=\"text-align: right;\">\n",
       "      <th></th>\n",
       "      <th></th>\n",
       "      <th>JobId</th>\n",
       "      <th>City</th>\n",
       "      <th>State</th>\n",
       "      <th>DescriptionLength</th>\n",
       "      <th>EducationLevel</th>\n",
       "      <th>Clicks</th>\n",
       "      <th>Applicants</th>\n",
       "      <th>JobTitleName</th>\n",
       "      <th>CategoryName</th>\n",
       "    </tr>\n",
       "    <tr>\n",
       "      <th>CategoryId</th>\n",
       "      <th>JobTitleId</th>\n",
       "      <th></th>\n",
       "      <th></th>\n",
       "      <th></th>\n",
       "      <th></th>\n",
       "      <th></th>\n",
       "      <th></th>\n",
       "      <th></th>\n",
       "      <th></th>\n",
       "      <th></th>\n",
       "    </tr>\n",
       "  </thead>\n",
       "  <tbody>\n",
       "    <tr>\n",
       "      <th>1</th>\n",
       "      <th>4</th>\n",
       "      <td>315</td>\n",
       "      <td>Syracuse</td>\n",
       "      <td>NY</td>\n",
       "      <td>311</td>\n",
       "      <td>3.0</td>\n",
       "      <td>94</td>\n",
       "      <td>7</td>\n",
       "      <td>NaN</td>\n",
       "      <td>NaN</td>\n",
       "    </tr>\n",
       "    <tr>\n",
       "      <th>2</th>\n",
       "      <th>4</th>\n",
       "      <td>322</td>\n",
       "      <td>Syracuse</td>\n",
       "      <td>NY</td>\n",
       "      <td>537</td>\n",
       "      <td>3.0</td>\n",
       "      <td>162</td>\n",
       "      <td>23</td>\n",
       "      <td>Special Education Teacher</td>\n",
       "      <td>Special Education</td>\n",
       "    </tr>\n",
       "  </tbody>\n",
       "</table>\n",
       "</div>"
      ],
      "text/plain": [
       "                       JobId      City State  DescriptionLength  \\\n",
       "CategoryId JobTitleId                                             \n",
       "1          4             315  Syracuse    NY                311   \n",
       "2          4             322  Syracuse    NY                537   \n",
       "\n",
       "                       EducationLevel  Clicks  Applicants  \\\n",
       "CategoryId JobTitleId                                       \n",
       "1          4                      3.0      94           7   \n",
       "2          4                      3.0     162          23   \n",
       "\n",
       "                                    JobTitleName       CategoryName  \n",
       "CategoryId JobTitleId                                                \n",
       "1          4                                 NaN                NaN  \n",
       "2          4           Special Education Teacher  Special Education  "
      ]
     },
     "execution_count": 15,
     "metadata": {},
     "output_type": "execute_result"
    }
   ],
   "source": [
    "\n",
    "df_all.query('JobTitleId==4 and State==\"NY\" and EducationLevel==3 and City==\"Syracuse\"').sort_values('DescriptionLength')"
   ]
  },
  {
   "cell_type": "code",
   "execution_count": 16,
   "metadata": {
    "scrolled": true
   },
   "outputs": [
    {
     "data": {
      "text/plain": [
       "JobTitleId                  4\n",
       "CategoryId                  2\n",
       "City                 Syracuse\n",
       "State                      NY\n",
       "DescriptionLength         311\n",
       "EducationLevel              3\n",
       "Clicks                     94\n",
       "Applicants                  7\n",
       "Name: 315, dtype: object"
      ]
     },
     "execution_count": 16,
     "metadata": {},
     "output_type": "execute_result"
    }
   ],
   "source": [
    "df_test_job = df_test_job.reset_index().set_index('JobId')\n",
    "df_test_job.loc[315, 'CategoryId'] = 2 # my best guess is that it is probably 'Field Engineering Technician'\n",
    "df_test_job.loc[315] "
   ]
  },
  {
   "cell_type": "code",
   "execution_count": 17,
   "metadata": {
    "scrolled": false
   },
   "outputs": [
    {
     "data": {
      "text/html": [
       "<div>\n",
       "<style scoped>\n",
       "    .dataframe tbody tr th:only-of-type {\n",
       "        vertical-align: middle;\n",
       "    }\n",
       "\n",
       "    .dataframe tbody tr th {\n",
       "        vertical-align: top;\n",
       "    }\n",
       "\n",
       "    .dataframe thead th {\n",
       "        text-align: right;\n",
       "    }\n",
       "</style>\n",
       "<table border=\"1\" class=\"dataframe\">\n",
       "  <thead>\n",
       "    <tr style=\"text-align: right;\">\n",
       "      <th></th>\n",
       "      <th></th>\n",
       "      <th>JobId</th>\n",
       "      <th>City</th>\n",
       "      <th>State</th>\n",
       "      <th>DescriptionLength</th>\n",
       "      <th>EducationLevel</th>\n",
       "      <th>Clicks</th>\n",
       "      <th>Applicants</th>\n",
       "      <th>JobTitleName</th>\n",
       "      <th>CategoryName</th>\n",
       "    </tr>\n",
       "    <tr>\n",
       "      <th>CategoryId</th>\n",
       "      <th>JobTitleId</th>\n",
       "      <th></th>\n",
       "      <th></th>\n",
       "      <th></th>\n",
       "      <th></th>\n",
       "      <th></th>\n",
       "      <th></th>\n",
       "      <th></th>\n",
       "      <th></th>\n",
       "      <th></th>\n",
       "    </tr>\n",
       "  </thead>\n",
       "  <tbody>\n",
       "    <tr>\n",
       "      <th>1</th>\n",
       "      <th>1</th>\n",
       "      <td>13</td>\n",
       "      <td>Syracuse</td>\n",
       "      <td>NY</td>\n",
       "      <td>378</td>\n",
       "      <td>NaN</td>\n",
       "      <td>114</td>\n",
       "      <td>11</td>\n",
       "      <td>Receptionist</td>\n",
       "      <td>General Administration</td>\n",
       "    </tr>\n",
       "  </tbody>\n",
       "</table>\n",
       "</div>"
      ],
      "text/plain": [
       "                       JobId      City State  DescriptionLength  \\\n",
       "CategoryId JobTitleId                                             \n",
       "1          1              13  Syracuse    NY                378   \n",
       "\n",
       "                       EducationLevel  Clicks  Applicants  JobTitleName  \\\n",
       "CategoryId JobTitleId                                                     \n",
       "1          1                      NaN     114          11  Receptionist   \n",
       "\n",
       "                                 CategoryName  \n",
       "CategoryId JobTitleId                          \n",
       "1          1           General Administration  "
      ]
     },
     "execution_count": 17,
     "metadata": {},
     "output_type": "execute_result"
    }
   ],
   "source": [
    "#regenarate df_all\n",
    "df_all = df_test_job.reset_index().set_index(['CategoryId','JobTitleId']).join(df_job_categ.reset_index().set_index(['CategoryId','JobTitleId']))\n",
    "\n",
    "df_all[df_all.isnull().any(axis=1)]"
   ]
  },
  {
   "cell_type": "markdown",
   "metadata": {},
   "source": [
    "# Issue 4 : EducationLevel is Null (JobID= 13)"
   ]
  },
  {
   "cell_type": "code",
   "execution_count": 18,
   "metadata": {
    "scrolled": true
   },
   "outputs": [
    {
     "data": {
      "text/html": [
       "<div>\n",
       "<style scoped>\n",
       "    .dataframe tbody tr th:only-of-type {\n",
       "        vertical-align: middle;\n",
       "    }\n",
       "\n",
       "    .dataframe tbody tr th {\n",
       "        vertical-align: top;\n",
       "    }\n",
       "\n",
       "    .dataframe thead th {\n",
       "        text-align: right;\n",
       "    }\n",
       "</style>\n",
       "<table border=\"1\" class=\"dataframe\">\n",
       "  <thead>\n",
       "    <tr style=\"text-align: right;\">\n",
       "      <th></th>\n",
       "      <th></th>\n",
       "      <th>JobId</th>\n",
       "      <th>City</th>\n",
       "      <th>State</th>\n",
       "      <th>DescriptionLength</th>\n",
       "      <th>EducationLevel</th>\n",
       "      <th>Clicks</th>\n",
       "      <th>Applicants</th>\n",
       "      <th>JobTitleName</th>\n",
       "      <th>CategoryName</th>\n",
       "    </tr>\n",
       "    <tr>\n",
       "      <th>CategoryId</th>\n",
       "      <th>JobTitleId</th>\n",
       "      <th></th>\n",
       "      <th></th>\n",
       "      <th></th>\n",
       "      <th></th>\n",
       "      <th></th>\n",
       "      <th></th>\n",
       "      <th></th>\n",
       "      <th></th>\n",
       "      <th></th>\n",
       "    </tr>\n",
       "  </thead>\n",
       "  <tbody>\n",
       "    <tr>\n",
       "      <th>1</th>\n",
       "      <th>1</th>\n",
       "      <td>13</td>\n",
       "      <td>Syracuse</td>\n",
       "      <td>NY</td>\n",
       "      <td>378</td>\n",
       "      <td>NaN</td>\n",
       "      <td>114</td>\n",
       "      <td>11</td>\n",
       "      <td>Receptionist</td>\n",
       "      <td>General Administration</td>\n",
       "    </tr>\n",
       "  </tbody>\n",
       "</table>\n",
       "</div>"
      ],
      "text/plain": [
       "                       JobId      City State  DescriptionLength  \\\n",
       "CategoryId JobTitleId                                             \n",
       "1          1              13  Syracuse    NY                378   \n",
       "\n",
       "                       EducationLevel  Clicks  Applicants  JobTitleName  \\\n",
       "CategoryId JobTitleId                                                     \n",
       "1          1                      NaN     114          11  Receptionist   \n",
       "\n",
       "                                 CategoryName  \n",
       "CategoryId JobTitleId                          \n",
       "1          1           General Administration  "
      ]
     },
     "execution_count": 18,
     "metadata": {},
     "output_type": "execute_result"
    }
   ],
   "source": [
    "df_all.query('JobId == 13') "
   ]
  },
  {
   "cell_type": "markdown",
   "metadata": {},
   "source": [
    "#Handling issue 1.4 i will use fillna to EducationLevel feature\n"
   ]
  },
  {
   "cell_type": "code",
   "execution_count": 19,
   "metadata": {},
   "outputs": [],
   "source": [
    "df_all = df_all.apply(lambda x:x.fillna(x.value_counts().index[0]))"
   ]
  },
  {
   "cell_type": "code",
   "execution_count": 20,
   "metadata": {
    "scrolled": true
   },
   "outputs": [
    {
     "data": {
      "text/html": [
       "<div>\n",
       "<style scoped>\n",
       "    .dataframe tbody tr th:only-of-type {\n",
       "        vertical-align: middle;\n",
       "    }\n",
       "\n",
       "    .dataframe tbody tr th {\n",
       "        vertical-align: top;\n",
       "    }\n",
       "\n",
       "    .dataframe thead th {\n",
       "        text-align: right;\n",
       "    }\n",
       "</style>\n",
       "<table border=\"1\" class=\"dataframe\">\n",
       "  <thead>\n",
       "    <tr style=\"text-align: right;\">\n",
       "      <th></th>\n",
       "      <th></th>\n",
       "      <th>JobId</th>\n",
       "      <th>City</th>\n",
       "      <th>State</th>\n",
       "      <th>DescriptionLength</th>\n",
       "      <th>EducationLevel</th>\n",
       "      <th>Clicks</th>\n",
       "      <th>Applicants</th>\n",
       "      <th>JobTitleName</th>\n",
       "      <th>CategoryName</th>\n",
       "    </tr>\n",
       "    <tr>\n",
       "      <th>CategoryId</th>\n",
       "      <th>JobTitleId</th>\n",
       "      <th></th>\n",
       "      <th></th>\n",
       "      <th></th>\n",
       "      <th></th>\n",
       "      <th></th>\n",
       "      <th></th>\n",
       "      <th></th>\n",
       "      <th></th>\n",
       "      <th></th>\n",
       "    </tr>\n",
       "  </thead>\n",
       "  <tbody>\n",
       "    <tr>\n",
       "      <th rowspan=\"5\" valign=\"top\">1</th>\n",
       "      <th>1</th>\n",
       "      <td>1</td>\n",
       "      <td>New York</td>\n",
       "      <td>NY</td>\n",
       "      <td>414</td>\n",
       "      <td>1.0</td>\n",
       "      <td>125</td>\n",
       "      <td>24</td>\n",
       "      <td>Receptionist</td>\n",
       "      <td>General Administration</td>\n",
       "    </tr>\n",
       "    <tr>\n",
       "      <th>1</th>\n",
       "      <td>2</td>\n",
       "      <td>New York</td>\n",
       "      <td>NY</td>\n",
       "      <td>199</td>\n",
       "      <td>1.0</td>\n",
       "      <td>60</td>\n",
       "      <td>8</td>\n",
       "      <td>Receptionist</td>\n",
       "      <td>General Administration</td>\n",
       "    </tr>\n",
       "    <tr>\n",
       "      <th>1</th>\n",
       "      <td>3</td>\n",
       "      <td>New York</td>\n",
       "      <td>NY</td>\n",
       "      <td>527</td>\n",
       "      <td>1.0</td>\n",
       "      <td>159</td>\n",
       "      <td>13</td>\n",
       "      <td>Receptionist</td>\n",
       "      <td>General Administration</td>\n",
       "    </tr>\n",
       "    <tr>\n",
       "      <th>1</th>\n",
       "      <td>4</td>\n",
       "      <td>New York</td>\n",
       "      <td>NY</td>\n",
       "      <td>132</td>\n",
       "      <td>2.0</td>\n",
       "      <td>40</td>\n",
       "      <td>5</td>\n",
       "      <td>Receptionist</td>\n",
       "      <td>General Administration</td>\n",
       "    </tr>\n",
       "    <tr>\n",
       "      <th>1</th>\n",
       "      <td>5</td>\n",
       "      <td>New York</td>\n",
       "      <td>NY</td>\n",
       "      <td>422</td>\n",
       "      <td>3.0</td>\n",
       "      <td>127</td>\n",
       "      <td>11</td>\n",
       "      <td>Receptionist</td>\n",
       "      <td>General Administration</td>\n",
       "    </tr>\n",
       "  </tbody>\n",
       "</table>\n",
       "</div>"
      ],
      "text/plain": [
       "                       JobId      City State  DescriptionLength  \\\n",
       "CategoryId JobTitleId                                             \n",
       "1          1               1  New York    NY                414   \n",
       "           1               2  New York    NY                199   \n",
       "           1               3  New York    NY                527   \n",
       "           1               4  New York    NY                132   \n",
       "           1               5  New York    NY                422   \n",
       "\n",
       "                       EducationLevel  Clicks  Applicants  JobTitleName  \\\n",
       "CategoryId JobTitleId                                                     \n",
       "1          1                      1.0     125          24  Receptionist   \n",
       "           1                      1.0      60           8  Receptionist   \n",
       "           1                      1.0     159          13  Receptionist   \n",
       "           1                      2.0      40           5  Receptionist   \n",
       "           1                      3.0     127          11  Receptionist   \n",
       "\n",
       "                                 CategoryName  \n",
       "CategoryId JobTitleId                          \n",
       "1          1           General Administration  \n",
       "           1           General Administration  \n",
       "           1           General Administration  \n",
       "           1           General Administration  \n",
       "           1           General Administration  "
      ]
     },
     "execution_count": 20,
     "metadata": {},
     "output_type": "execute_result"
    }
   ],
   "source": [
    "df_all.head()"
   ]
  },
  {
   "cell_type": "code",
   "execution_count": 21,
   "metadata": {},
   "outputs": [
    {
     "data": {
      "text/plain": [
       "0"
      ]
     },
     "execution_count": 21,
     "metadata": {},
     "output_type": "execute_result"
    }
   ],
   "source": [
    " df_all.isnull().sum().max() # Checking if there is any Null in the dataset \n"
   ]
  },
  {
   "cell_type": "code",
   "execution_count": 22,
   "metadata": {
    "scrolled": true
   },
   "outputs": [
    {
     "data": {
      "text/html": [
       "<div>\n",
       "<style scoped>\n",
       "    .dataframe tbody tr th:only-of-type {\n",
       "        vertical-align: middle;\n",
       "    }\n",
       "\n",
       "    .dataframe tbody tr th {\n",
       "        vertical-align: top;\n",
       "    }\n",
       "\n",
       "    .dataframe thead th {\n",
       "        text-align: right;\n",
       "    }\n",
       "</style>\n",
       "<table border=\"1\" class=\"dataframe\">\n",
       "  <thead>\n",
       "    <tr style=\"text-align: right;\">\n",
       "      <th></th>\n",
       "      <th>JobId</th>\n",
       "      <th>DescriptionLength</th>\n",
       "      <th>EducationLevel</th>\n",
       "      <th>Clicks</th>\n",
       "      <th>Applicants</th>\n",
       "    </tr>\n",
       "  </thead>\n",
       "  <tbody>\n",
       "    <tr>\n",
       "      <th>count</th>\n",
       "      <td>1000.000000</td>\n",
       "      <td>1000.000000</td>\n",
       "      <td>1000.000000</td>\n",
       "      <td>1000.000000</td>\n",
       "      <td>1000.000000</td>\n",
       "    </tr>\n",
       "    <tr>\n",
       "      <th>mean</th>\n",
       "      <td>500.500000</td>\n",
       "      <td>500.291000</td>\n",
       "      <td>1.996000</td>\n",
       "      <td>160.226000</td>\n",
       "      <td>19.435000</td>\n",
       "    </tr>\n",
       "    <tr>\n",
       "      <th>std</th>\n",
       "      <td>288.819436</td>\n",
       "      <td>230.639673</td>\n",
       "      <td>0.802888</td>\n",
       "      <td>319.058878</td>\n",
       "      <td>11.843143</td>\n",
       "    </tr>\n",
       "    <tr>\n",
       "      <th>min</th>\n",
       "      <td>1.000000</td>\n",
       "      <td>100.000000</td>\n",
       "      <td>1.000000</td>\n",
       "      <td>0.000000</td>\n",
       "      <td>-5.000000</td>\n",
       "    </tr>\n",
       "    <tr>\n",
       "      <th>25%</th>\n",
       "      <td>250.750000</td>\n",
       "      <td>300.750000</td>\n",
       "      <td>1.000000</td>\n",
       "      <td>90.000000</td>\n",
       "      <td>10.000000</td>\n",
       "    </tr>\n",
       "    <tr>\n",
       "      <th>50%</th>\n",
       "      <td>500.500000</td>\n",
       "      <td>508.000000</td>\n",
       "      <td>2.000000</td>\n",
       "      <td>153.000000</td>\n",
       "      <td>17.000000</td>\n",
       "    </tr>\n",
       "    <tr>\n",
       "      <th>75%</th>\n",
       "      <td>750.250000</td>\n",
       "      <td>697.500000</td>\n",
       "      <td>3.000000</td>\n",
       "      <td>210.000000</td>\n",
       "      <td>27.000000</td>\n",
       "    </tr>\n",
       "    <tr>\n",
       "      <th>max</th>\n",
       "      <td>1000.000000</td>\n",
       "      <td>900.000000</td>\n",
       "      <td>3.000000</td>\n",
       "      <td>9999.000000</td>\n",
       "      <td>112.000000</td>\n",
       "    </tr>\n",
       "  </tbody>\n",
       "</table>\n",
       "</div>"
      ],
      "text/plain": [
       "             JobId  DescriptionLength  EducationLevel       Clicks  \\\n",
       "count  1000.000000        1000.000000     1000.000000  1000.000000   \n",
       "mean    500.500000         500.291000        1.996000   160.226000   \n",
       "std     288.819436         230.639673        0.802888   319.058878   \n",
       "min       1.000000         100.000000        1.000000     0.000000   \n",
       "25%     250.750000         300.750000        1.000000    90.000000   \n",
       "50%     500.500000         508.000000        2.000000   153.000000   \n",
       "75%     750.250000         697.500000        3.000000   210.000000   \n",
       "max    1000.000000         900.000000        3.000000  9999.000000   \n",
       "\n",
       "        Applicants  \n",
       "count  1000.000000  \n",
       "mean     19.435000  \n",
       "std      11.843143  \n",
       "min      -5.000000  \n",
       "25%      10.000000  \n",
       "50%      17.000000  \n",
       "75%      27.000000  \n",
       "max     112.000000  "
      ]
     },
     "execution_count": 22,
     "metadata": {},
     "output_type": "execute_result"
    }
   ],
   "source": [
    "df_all.describe()"
   ]
  },
  {
   "cell_type": "markdown",
   "metadata": {},
   "source": [
    "## EDA"
   ]
  },
  {
   "cell_type": "raw",
   "metadata": {},
   "source": [
    "# #5 Issue - Handling values< 0 (-5)(JobID =116) \n",
    "# #6 Issue - More applicants than clicks(81)(JobID =112)\n",
    "# #7 Issue - Clicks equal to 0 (Applicants = 18 )(JobID =412)\n",
    "# #8 Issue - JobId -9999 clicks, it's obviously a bot - error(JobID =981)"
   ]
  },
  {
   "cell_type": "code",
   "execution_count": 23,
   "metadata": {
    "scrolled": true
   },
   "outputs": [
    {
     "data": {
      "text/plain": [
       "<seaborn.axisgrid.PairGrid at 0x2288738f080>"
      ]
     },
     "execution_count": 23,
     "metadata": {},
     "output_type": "execute_result"
    },
    {
     "data": {
      "image/png": "[encoded data removed]",
      "text/plain": [
       "<Figure size 804.25x720 with 20 Axes>"
      ]
     },
     "metadata": {},
     "output_type": "display_data"
    }
   ],
   "source": [
    "# Let's see corralation between features'\n",
    "\n",
    "\n",
    "\n",
    "import seaborn as sns\n",
    "df_all_eda = df_all.copy()\n",
    "\n",
    "sns.pairplot(df_all_eda[['Applicants','Clicks','DescriptionLength','EducationLevel']], hue='EducationLevel')"
   ]
  },
  {
   "cell_type": "markdown",
   "metadata": {},
   "source": [
    "We can see that there are a few outliers , let's drop them from dataset"
   ]
  },
  {
   "cell_type": "code",
   "execution_count": 24,
   "metadata": {},
   "outputs": [
    {
     "data": {
      "text/plain": [
       "<matplotlib.axes._subplots.AxesSubplot at 0x22887eb47b8>"
      ]
     },
     "execution_count": 24,
     "metadata": {},
     "output_type": "execute_result"
    },
    {
     "data": {
      "image/png": "[encoded data removed]",
      "text/plain": [
       "<Figure size 432x288 with 1 Axes>"
      ]
     },
     "metadata": {},
     "output_type": "display_data"
    }
   ],
   "source": [
    "# let's see Clicks in a boxplot \n",
    "df_all.Clicks.plot.box()"
   ]
  },
  {
   "cell_type": "code",
   "execution_count": 25,
   "metadata": {},
   "outputs": [
    {
     "data": {
      "text/html": [
       "<div>\n",
       "<style scoped>\n",
       "    .dataframe tbody tr th:only-of-type {\n",
       "        vertical-align: middle;\n",
       "    }\n",
       "\n",
       "    .dataframe tbody tr th {\n",
       "        vertical-align: top;\n",
       "    }\n",
       "\n",
       "    .dataframe thead th {\n",
       "        text-align: right;\n",
       "    }\n",
       "</style>\n",
       "<table border=\"1\" class=\"dataframe\">\n",
       "  <thead>\n",
       "    <tr style=\"text-align: right;\">\n",
       "      <th></th>\n",
       "      <th></th>\n",
       "      <th>JobId</th>\n",
       "      <th>City</th>\n",
       "      <th>State</th>\n",
       "      <th>DescriptionLength</th>\n",
       "      <th>EducationLevel</th>\n",
       "      <th>Clicks</th>\n",
       "      <th>Applicants</th>\n",
       "      <th>JobTitleName</th>\n",
       "      <th>CategoryName</th>\n",
       "    </tr>\n",
       "    <tr>\n",
       "      <th>CategoryId</th>\n",
       "      <th>JobTitleId</th>\n",
       "      <th></th>\n",
       "      <th></th>\n",
       "      <th></th>\n",
       "      <th></th>\n",
       "      <th></th>\n",
       "      <th></th>\n",
       "      <th></th>\n",
       "      <th></th>\n",
       "      <th></th>\n",
       "    </tr>\n",
       "  </thead>\n",
       "  <tbody>\n",
       "    <tr>\n",
       "      <th rowspan=\"2\" valign=\"top\">1</th>\n",
       "      <th>2</th>\n",
       "      <td>116</td>\n",
       "      <td>Syracuse</td>\n",
       "      <td>NY</td>\n",
       "      <td>132</td>\n",
       "      <td>3.0</td>\n",
       "      <td>40</td>\n",
       "      <td>-5</td>\n",
       "      <td>Administrative Assistant</td>\n",
       "      <td>General Administration</td>\n",
       "    </tr>\n",
       "    <tr>\n",
       "      <th>3</th>\n",
       "      <td>256</td>\n",
       "      <td>Los Angeles</td>\n",
       "      <td>CA</td>\n",
       "      <td>269</td>\n",
       "      <td>3.0</td>\n",
       "      <td>81</td>\n",
       "      <td>112</td>\n",
       "      <td>Bookkeeper</td>\n",
       "      <td>General Administration</td>\n",
       "    </tr>\n",
       "    <tr>\n",
       "      <th>2</th>\n",
       "      <th>5</th>\n",
       "      <td>412</td>\n",
       "      <td>Syracuse</td>\n",
       "      <td>NY</td>\n",
       "      <td>323</td>\n",
       "      <td>1.0</td>\n",
       "      <td>0</td>\n",
       "      <td>18</td>\n",
       "      <td>Special Education Assistant</td>\n",
       "      <td>Special Education</td>\n",
       "    </tr>\n",
       "    <tr>\n",
       "      <th>3</th>\n",
       "      <th>10</th>\n",
       "      <td>981</td>\n",
       "      <td>Newtonville</td>\n",
       "      <td>MA</td>\n",
       "      <td>714</td>\n",
       "      <td>2.0</td>\n",
       "      <td>9999</td>\n",
       "      <td>41</td>\n",
       "      <td>Field Engineering Technician</td>\n",
       "      <td>Civil Engineering</td>\n",
       "    </tr>\n",
       "  </tbody>\n",
       "</table>\n",
       "</div>"
      ],
      "text/plain": [
       "                       JobId         City State  DescriptionLength  \\\n",
       "CategoryId JobTitleId                                                \n",
       "1          2             116     Syracuse    NY                132   \n",
       "           3             256  Los Angeles    CA                269   \n",
       "2          5             412     Syracuse    NY                323   \n",
       "3          10            981  Newtonville    MA                714   \n",
       "\n",
       "                       EducationLevel  Clicks  Applicants  \\\n",
       "CategoryId JobTitleId                                       \n",
       "1          2                      3.0      40          -5   \n",
       "           3                      3.0      81         112   \n",
       "2          5                      1.0       0          18   \n",
       "3          10                     2.0    9999          41   \n",
       "\n",
       "                                       JobTitleName            CategoryName  \n",
       "CategoryId JobTitleId                                                        \n",
       "1          2               Administrative Assistant  General Administration  \n",
       "           3                             Bookkeeper  General Administration  \n",
       "2          5            Special Education Assistant       Special Education  \n",
       "3          10          Field Engineering Technician       Civil Engineering  "
      ]
     },
     "execution_count": 25,
     "metadata": {},
     "output_type": "execute_result"
    }
   ],
   "source": [
    "#we can see a few outliers , let's drop them from dataset \n",
    "\n",
    "bad_data_query ='Applicants <= 0 or Clicks <=0 or EducationLevel<=0 or DescriptionLength <=0 or DescriptionLength <=0\\\n",
    "or Applicants > Clicks or City == \"\" or State ==\"\" or Clicks >9000'\n",
    "simple_data_anomalies = df_all.query(bad_data_query)\n",
    "simple_data_anomalies"
   ]
  },
  {
   "cell_type": "code",
   "execution_count": 26,
   "metadata": {},
   "outputs": [],
   "source": [
    "# deleting all rows with bad data\n",
    "\n",
    "z = df_all.reset_index().set_index('JobId')\n",
    "df_all = z.loc[~z.index.isin(simple_data_anomalies.set_index('JobId').index)]"
   ]
  },
  {
   "cell_type": "markdown",
   "metadata": {},
   "source": [
    "# City Anomalies\n",
    "\n",
    "\n",
    "#9 Issue - \"New York\" & \"New-York\" several versions\n",
    "#10 Issue - \"New York\" wrong city state combination\n"
   ]
  },
  {
   "cell_type": "code",
   "execution_count": 27,
   "metadata": {},
   "outputs": [
    {
     "data": {
      "text/plain": [
       "array(['New York-NY', 'Syracuse-NY', 'Binghamton-NY', 'Sacramento-CA',\n",
       "       'Lodi-CA', 'Los Angeles-CA', 'West Newton-MA', 'Newtonville-MA',\n",
       "       'Boston-MA', 'New York-NJ', 'New-York-NY'], dtype=object)"
      ]
     },
     "execution_count": 27,
     "metadata": {},
     "output_type": "execute_result"
    }
   ],
   "source": [
    "# i am checking uniqueness in City and State\n",
    "\n",
    "\n",
    "df_city = df_all[['City','State']].apply(lambda r:r[0]+'-'+r[1],axis = 1).unique()\n",
    "df_city"
   ]
  },
  {
   "cell_type": "code",
   "execution_count": 28,
   "metadata": {},
   "outputs": [],
   "source": [
    "#Handling 9 Issue - \"New York\" & \"New-York\" several versions\n",
    "\n",
    "\n",
    "df_all.query('City ==\"New-York\"')\n",
    "df_all = df_all.replace({'New-York':'New York'}) # fixed"
   ]
  },
  {
   "cell_type": "code",
   "execution_count": 29,
   "metadata": {
    "scrolled": true
   },
   "outputs": [
    {
     "data": {
      "text/html": [
       "<div>\n",
       "<style scoped>\n",
       "    .dataframe tbody tr th:only-of-type {\n",
       "        vertical-align: middle;\n",
       "    }\n",
       "\n",
       "    .dataframe tbody tr th {\n",
       "        vertical-align: top;\n",
       "    }\n",
       "\n",
       "    .dataframe thead th {\n",
       "        text-align: right;\n",
       "    }\n",
       "</style>\n",
       "<table border=\"1\" class=\"dataframe\">\n",
       "  <thead>\n",
       "    <tr style=\"text-align: right;\">\n",
       "      <th></th>\n",
       "      <th>CategoryId</th>\n",
       "      <th>JobTitleId</th>\n",
       "      <th>City</th>\n",
       "      <th>State</th>\n",
       "      <th>DescriptionLength</th>\n",
       "      <th>EducationLevel</th>\n",
       "      <th>Clicks</th>\n",
       "      <th>Applicants</th>\n",
       "      <th>JobTitleName</th>\n",
       "      <th>CategoryName</th>\n",
       "    </tr>\n",
       "    <tr>\n",
       "      <th>JobId</th>\n",
       "      <th></th>\n",
       "      <th></th>\n",
       "      <th></th>\n",
       "      <th></th>\n",
       "      <th></th>\n",
       "      <th></th>\n",
       "      <th></th>\n",
       "      <th></th>\n",
       "      <th></th>\n",
       "      <th></th>\n",
       "    </tr>\n",
       "  </thead>\n",
       "  <tbody>\n",
       "    <tr>\n",
       "      <th>201</th>\n",
       "      <td>1</td>\n",
       "      <td>3</td>\n",
       "      <td>New York</td>\n",
       "      <td>NJ</td>\n",
       "      <td>765</td>\n",
       "      <td>3.0</td>\n",
       "      <td>230</td>\n",
       "      <td>30</td>\n",
       "      <td>Bookkeeper</td>\n",
       "      <td>General Administration</td>\n",
       "    </tr>\n",
       "  </tbody>\n",
       "</table>\n",
       "</div>"
      ],
      "text/plain": [
       "       CategoryId  JobTitleId      City State  DescriptionLength  \\\n",
       "JobId                                                              \n",
       "201             1           3  New York    NJ                765   \n",
       "\n",
       "       EducationLevel  Clicks  Applicants JobTitleName            CategoryName  \n",
       "JobId                                                                           \n",
       "201               3.0     230          30   Bookkeeper  General Administration  "
      ]
     },
     "execution_count": 29,
     "metadata": {},
     "output_type": "execute_result"
    }
   ],
   "source": [
    "# Handling 10 Issue - \"New York\" wrong city combination\n",
    "\n",
    "\n",
    "df_all.query('City ==\"New York\" and State ==\"NJ\"')"
   ]
  },
  {
   "cell_type": "code",
   "execution_count": 30,
   "metadata": {},
   "outputs": [
    {
     "data": {
      "text/plain": [
       "CategoryId                                1\n",
       "JobTitleId                                3\n",
       "City                               New York\n",
       "State                                    NY\n",
       "DescriptionLength                       765\n",
       "EducationLevel                            3\n",
       "Clicks                                  230\n",
       "Applicants                               30\n",
       "JobTitleName                     Bookkeeper\n",
       "CategoryName         General Administration\n",
       "Name: 201, dtype: object"
      ]
     },
     "execution_count": 30,
     "metadata": {},
     "output_type": "execute_result"
    }
   ],
   "source": [
    "df_all = df_all.reset_index().set_index('JobId')\n",
    "df_all.loc[201, 'State'] = \"NY\" # we will replace the Clicks rate (0) to average of Clicks in this JobTitleID\n",
    "df_all.loc[201] "
   ]
  },
  {
   "cell_type": "markdown",
   "metadata": {},
   "source": [
    "\n",
    "# Question 1"
   ]
  },
  {
   "cell_type": "raw",
   "metadata": {},
   "source": [
    "1.1\tWhich job has the longest description outside of the state of NY?"
   ]
  },
  {
   "cell_type": "code",
   "execution_count": 31,
   "metadata": {},
   "outputs": [
    {
     "name": "stdout",
     "output_type": "stream",
     "text": [
      "The longest description outside of the state of NY is Special Education Teacher\n",
      "And it is only One\n"
     ]
    }
   ],
   "source": [
    "max_length = df_all.query('State !=\"NY\"').DescriptionLength.max()\n",
    "long_desc = df_all.query('State !=\"NY\" and DescriptionLength==%s'%max_length).JobTitleName.values[0]\n",
    "print (\"The longest description outside of the state of NY is\" + ' ' +long_desc)\n",
    "print (\"And it is only One\")"
   ]
  },
  {
   "cell_type": "raw",
   "metadata": {},
   "source": [
    "1.2\tWhich job title has the highest number of average clicks?"
   ]
  },
  {
   "cell_type": "code",
   "execution_count": 32,
   "metadata": {},
   "outputs": [
    {
     "name": "stdout",
     "output_type": "stream",
     "text": [
      "The highest number of average clicks is 167.8 and the Job Title is \" Environmental Manager \"\n"
     ]
    }
   ],
   "source": [
    "name,clicks = df_all.groupby(['JobTitleName'])['Clicks'].mean().sort_values(ascending=False).reset_index().iloc[0].values\n",
    "print (\"The highest number of average clicks is\" , clicks, \"and the Job Title is \\\"\",name,\"\\\"\")"
   ]
  },
  {
   "cell_type": "raw",
   "metadata": {},
   "source": [
    "1.3\tWhich Category has the highest conversion rate of clicks to applicants?"
   ]
  },
  {
   "cell_type": "code",
   "execution_count": 33,
   "metadata": {},
   "outputs": [],
   "source": [
    "z= df_all.groupby(['CategoryId'])[['Applicants','Clicks']].sum()\n",
    "z = (z['Applicants']/z['Clicks']).sort_values(ascending=False)\n",
    "cat_id,conv_rate = z.reset_index().iloc[0].values"
   ]
  },
  {
   "cell_type": "code",
   "execution_count": 34,
   "metadata": {},
   "outputs": [
    {
     "name": "stdout",
     "output_type": "stream",
     "text": [
      "The Category name which has the highest conversion rate is \" Special Education \" and highest conversion rate is: 0.1316875196197139\n"
     ]
    }
   ],
   "source": [
    "high_cat = df_test_cat.query('CategoryId ==%s'%cat_id).CategoryName.values[0]\n",
    "print (\"The Category name which has the highest conversion rate is \\\"\", high_cat ,\"\\\"\" ,\"and highest conversion rate is:\",conv_rate)"
   ]
  },
  {
   "cell_type": "markdown",
   "metadata": {},
   "source": [
    "## EDA before prediction"
   ]
  },
  {
   "cell_type": "code",
   "execution_count": 35,
   "metadata": {
    "scrolled": false
   },
   "outputs": [
    {
     "data": {
      "text/plain": [
       "<seaborn.axisgrid.PairGrid at 0x228881f9ba8>"
      ]
     },
     "execution_count": 35,
     "metadata": {},
     "output_type": "execute_result"
    },
    {
     "data": {
      "image/png": "[encoded data removed]",
      "text/plain": [
       "<Figure size 984.25x900 with 30 Axes>"
      ]
     },
     "metadata": {},
     "output_type": "display_data"
    }
   ],
   "source": [
    "import seaborn as sns\n",
    "df_all_eda = df_all.copy()\n",
    "df_all_eda['LogApplicants'] = df_all_eda['Applicants'].apply(np.log)\n",
    "df_all_eda['LogClicks'] = df_all_eda['Clicks'].apply(np.log)\n",
    "\n",
    "pplot_vars = ['LogApplicants','LogClicks','Applicants','Clicks','DescriptionLength']\n",
    "pplot_hue = 'EducationLevel'\n",
    "sns.pairplot(df_all_eda[pplot_vars+[pplot_hue]], vars=pplot_vars, hue=pplot_hue)"
   ]
  },
  {
   "cell_type": "code",
   "execution_count": 36,
   "metadata": {},
   "outputs": [],
   "source": [
    "# EDA\n",
    "# Clicks-DescriptionLen are highly and linearly correlated, easy prediction\n",
    "# Applicants-Clicks are correlated but non-linearly, and EducationLevel does not seem to help, predicting the log of it"
   ]
  },
  {
   "cell_type": "markdown",
   "metadata": {},
   "source": [
    "# Question 3\n",
    "\n"
   ]
  },
  {
   "cell_type": "markdown",
   "metadata": {},
   "source": [
    "# Predict Clicks"
   ]
  },
  {
   "cell_type": "code",
   "execution_count": 53,
   "metadata": {},
   "outputs": [
    {
     "name": "stderr",
     "output_type": "stream",
     "text": [
      "c:\\miniconda3\\lib\\site-packages\\ipykernel_launcher.py:2: FutureWarning: Sorting because non-concatenation axis is not aligned. A future version\n",
      "of pandas will change to not sort by default.\n",
      "\n",
      "To accept the future behavior, pass 'sort=True'.\n",
      "\n",
      "To retain the current behavior and silence the warning, pass sort=False\n",
      "\n",
      "  \n"
     ]
    },
    {
     "data": {
      "text/html": [
       "<div>\n",
       "<style scoped>\n",
       "    .dataframe tbody tr th:only-of-type {\n",
       "        vertical-align: middle;\n",
       "    }\n",
       "\n",
       "    .dataframe tbody tr th {\n",
       "        vertical-align: top;\n",
       "    }\n",
       "\n",
       "    .dataframe thead th {\n",
       "        text-align: right;\n",
       "    }\n",
       "</style>\n",
       "<table border=\"1\" class=\"dataframe\">\n",
       "  <thead>\n",
       "    <tr style=\"text-align: right;\">\n",
       "      <th></th>\n",
       "      <th>Applicants</th>\n",
       "      <th>CategoryId</th>\n",
       "      <th>CategoryName</th>\n",
       "      <th>City</th>\n",
       "      <th>Clicks</th>\n",
       "      <th>DescriptionLength</th>\n",
       "      <th>EducationLevel</th>\n",
       "      <th>JobTitleId</th>\n",
       "      <th>JobTitleName</th>\n",
       "      <th>State</th>\n",
       "    </tr>\n",
       "    <tr>\n",
       "      <th>JobId</th>\n",
       "      <th></th>\n",
       "      <th></th>\n",
       "      <th></th>\n",
       "      <th></th>\n",
       "      <th></th>\n",
       "      <th></th>\n",
       "      <th></th>\n",
       "      <th></th>\n",
       "      <th></th>\n",
       "      <th></th>\n",
       "    </tr>\n",
       "  </thead>\n",
       "  <tbody>\n",
       "    <tr>\n",
       "      <th>1001</th>\n",
       "      <td>NaN</td>\n",
       "      <td>1</td>\n",
       "      <td>NaN</td>\n",
       "      <td>New York</td>\n",
       "      <td>NaN</td>\n",
       "      <td>314</td>\n",
       "      <td>2.0</td>\n",
       "      <td>1</td>\n",
       "      <td>NaN</td>\n",
       "      <td>NY</td>\n",
       "    </tr>\n",
       "    <tr>\n",
       "      <th>1002</th>\n",
       "      <td>NaN</td>\n",
       "      <td>4</td>\n",
       "      <td>NaN</td>\n",
       "      <td>New York</td>\n",
       "      <td>NaN</td>\n",
       "      <td>199</td>\n",
       "      <td>1.0</td>\n",
       "      <td>11</td>\n",
       "      <td>NaN</td>\n",
       "      <td>NY</td>\n",
       "    </tr>\n",
       "    <tr>\n",
       "      <th>1</th>\n",
       "      <td>24.0</td>\n",
       "      <td>1</td>\n",
       "      <td>General Administration</td>\n",
       "      <td>New York</td>\n",
       "      <td>125.0</td>\n",
       "      <td>414</td>\n",
       "      <td>1.0</td>\n",
       "      <td>1</td>\n",
       "      <td>Receptionist</td>\n",
       "      <td>NY</td>\n",
       "    </tr>\n",
       "    <tr>\n",
       "      <th>2</th>\n",
       "      <td>8.0</td>\n",
       "      <td>1</td>\n",
       "      <td>General Administration</td>\n",
       "      <td>New York</td>\n",
       "      <td>60.0</td>\n",
       "      <td>199</td>\n",
       "      <td>1.0</td>\n",
       "      <td>1</td>\n",
       "      <td>Receptionist</td>\n",
       "      <td>NY</td>\n",
       "    </tr>\n",
       "    <tr>\n",
       "      <th>3</th>\n",
       "      <td>13.0</td>\n",
       "      <td>1</td>\n",
       "      <td>General Administration</td>\n",
       "      <td>New York</td>\n",
       "      <td>159.0</td>\n",
       "      <td>527</td>\n",
       "      <td>1.0</td>\n",
       "      <td>1</td>\n",
       "      <td>Receptionist</td>\n",
       "      <td>NY</td>\n",
       "    </tr>\n",
       "  </tbody>\n",
       "</table>\n",
       "</div>"
      ],
      "text/plain": [
       "       Applicants  CategoryId            CategoryName      City  Clicks  \\\n",
       "JobId                                                                     \n",
       "1001          NaN           1                     NaN  New York     NaN   \n",
       "1002          NaN           4                     NaN  New York     NaN   \n",
       "1            24.0           1  General Administration  New York   125.0   \n",
       "2             8.0           1  General Administration  New York    60.0   \n",
       "3            13.0           1  General Administration  New York   159.0   \n",
       "\n",
       "       DescriptionLength  EducationLevel  JobTitleId  JobTitleName State  \n",
       "JobId                                                                     \n",
       "1001                 314             2.0           1           NaN    NY  \n",
       "1002                 199             1.0          11           NaN    NY  \n",
       "1                    414             1.0           1  Receptionist    NY  \n",
       "2                    199             1.0           1  Receptionist    NY  \n",
       "3                    527             1.0           1  Receptionist    NY  "
      ]
     },
     "execution_count": 53,
     "metadata": {},
     "output_type": "execute_result"
    }
   ],
   "source": [
    "# jobid not useful for prediction and i want to manipulate features together with the data required to predict\n",
    "df_model = pd.concat([df_predict, df_all]) \n",
    "df_model.head() "
   ]
  },
  {
   "cell_type": "code",
   "execution_count": 60,
   "metadata": {},
   "outputs": [
    {
     "data": {
      "text/html": [
       "<div>\n",
       "<style scoped>\n",
       "    .dataframe tbody tr th:only-of-type {\n",
       "        vertical-align: middle;\n",
       "    }\n",
       "\n",
       "    .dataframe tbody tr th {\n",
       "        vertical-align: top;\n",
       "    }\n",
       "\n",
       "    .dataframe thead th {\n",
       "        text-align: right;\n",
       "    }\n",
       "</style>\n",
       "<table border=\"1\" class=\"dataframe\">\n",
       "  <thead>\n",
       "    <tr style=\"text-align: right;\">\n",
       "      <th></th>\n",
       "      <th>DescriptionLength</th>\n",
       "      <th>CategoryId</th>\n",
       "      <th>JobTitleId</th>\n",
       "      <th>EducationLevel</th>\n",
       "      <th>City_Binghamton</th>\n",
       "      <th>City_Boston</th>\n",
       "      <th>City_Lodi</th>\n",
       "      <th>City_Los Angeles</th>\n",
       "      <th>City_New York</th>\n",
       "      <th>City_Newtonville</th>\n",
       "      <th>City_Sacramento</th>\n",
       "      <th>City_Syracuse</th>\n",
       "      <th>City_West Newton</th>\n",
       "      <th>State_CA</th>\n",
       "      <th>State_MA</th>\n",
       "      <th>State_NY</th>\n",
       "    </tr>\n",
       "    <tr>\n",
       "      <th>JobId</th>\n",
       "      <th></th>\n",
       "      <th></th>\n",
       "      <th></th>\n",
       "      <th></th>\n",
       "      <th></th>\n",
       "      <th></th>\n",
       "      <th></th>\n",
       "      <th></th>\n",
       "      <th></th>\n",
       "      <th></th>\n",
       "      <th></th>\n",
       "      <th></th>\n",
       "      <th></th>\n",
       "      <th></th>\n",
       "      <th></th>\n",
       "      <th></th>\n",
       "    </tr>\n",
       "  </thead>\n",
       "  <tbody>\n",
       "    <tr>\n",
       "      <th>1001</th>\n",
       "      <td>314</td>\n",
       "      <td>1</td>\n",
       "      <td>1</td>\n",
       "      <td>2.0</td>\n",
       "      <td>0</td>\n",
       "      <td>0</td>\n",
       "      <td>0</td>\n",
       "      <td>0</td>\n",
       "      <td>1</td>\n",
       "      <td>0</td>\n",
       "      <td>0</td>\n",
       "      <td>0</td>\n",
       "      <td>0</td>\n",
       "      <td>0</td>\n",
       "      <td>0</td>\n",
       "      <td>1</td>\n",
       "    </tr>\n",
       "    <tr>\n",
       "      <th>1002</th>\n",
       "      <td>199</td>\n",
       "      <td>4</td>\n",
       "      <td>11</td>\n",
       "      <td>1.0</td>\n",
       "      <td>0</td>\n",
       "      <td>0</td>\n",
       "      <td>0</td>\n",
       "      <td>0</td>\n",
       "      <td>1</td>\n",
       "      <td>0</td>\n",
       "      <td>0</td>\n",
       "      <td>0</td>\n",
       "      <td>0</td>\n",
       "      <td>0</td>\n",
       "      <td>0</td>\n",
       "      <td>1</td>\n",
       "    </tr>\n",
       "    <tr>\n",
       "      <th>1</th>\n",
       "      <td>414</td>\n",
       "      <td>1</td>\n",
       "      <td>1</td>\n",
       "      <td>1.0</td>\n",
       "      <td>0</td>\n",
       "      <td>0</td>\n",
       "      <td>0</td>\n",
       "      <td>0</td>\n",
       "      <td>1</td>\n",
       "      <td>0</td>\n",
       "      <td>0</td>\n",
       "      <td>0</td>\n",
       "      <td>0</td>\n",
       "      <td>0</td>\n",
       "      <td>0</td>\n",
       "      <td>1</td>\n",
       "    </tr>\n",
       "    <tr>\n",
       "      <th>2</th>\n",
       "      <td>199</td>\n",
       "      <td>1</td>\n",
       "      <td>1</td>\n",
       "      <td>1.0</td>\n",
       "      <td>0</td>\n",
       "      <td>0</td>\n",
       "      <td>0</td>\n",
       "      <td>0</td>\n",
       "      <td>1</td>\n",
       "      <td>0</td>\n",
       "      <td>0</td>\n",
       "      <td>0</td>\n",
       "      <td>0</td>\n",
       "      <td>0</td>\n",
       "      <td>0</td>\n",
       "      <td>1</td>\n",
       "    </tr>\n",
       "    <tr>\n",
       "      <th>3</th>\n",
       "      <td>527</td>\n",
       "      <td>1</td>\n",
       "      <td>1</td>\n",
       "      <td>1.0</td>\n",
       "      <td>0</td>\n",
       "      <td>0</td>\n",
       "      <td>0</td>\n",
       "      <td>0</td>\n",
       "      <td>1</td>\n",
       "      <td>0</td>\n",
       "      <td>0</td>\n",
       "      <td>0</td>\n",
       "      <td>0</td>\n",
       "      <td>0</td>\n",
       "      <td>0</td>\n",
       "      <td>1</td>\n",
       "    </tr>\n",
       "  </tbody>\n",
       "</table>\n",
       "</div>"
      ],
      "text/plain": [
       "       DescriptionLength  CategoryId  JobTitleId  EducationLevel  \\\n",
       "JobId                                                              \n",
       "1001                 314           1           1             2.0   \n",
       "1002                 199           4          11             1.0   \n",
       "1                    414           1           1             1.0   \n",
       "2                    199           1           1             1.0   \n",
       "3                    527           1           1             1.0   \n",
       "\n",
       "       City_Binghamton  City_Boston  City_Lodi  City_Los Angeles  \\\n",
       "JobId                                                              \n",
       "1001                 0            0          0                 0   \n",
       "1002                 0            0          0                 0   \n",
       "1                    0            0          0                 0   \n",
       "2                    0            0          0                 0   \n",
       "3                    0            0          0                 0   \n",
       "\n",
       "       City_New York  City_Newtonville  City_Sacramento  City_Syracuse  \\\n",
       "JobId                                                                    \n",
       "1001               1                 0                0              0   \n",
       "1002               1                 0                0              0   \n",
       "1                  1                 0                0              0   \n",
       "2                  1                 0                0              0   \n",
       "3                  1                 0                0              0   \n",
       "\n",
       "       City_West Newton  State_CA  State_MA  State_NY  \n",
       "JobId                                                  \n",
       "1001                  0         0         0         1  \n",
       "1002                  0         0         0         1  \n",
       "1                     0         0         0         1  \n",
       "2                     0         0         0         1  \n",
       "3                     0         0         0         1  "
      ]
     },
     "execution_count": 60,
     "metadata": {},
     "output_type": "execute_result"
    }
   ],
   "source": [
    "#using only relevant columns\n",
    "\n",
    "col_features = ['DescriptionLength', 'CategoryId','JobTitleId','City','State','EducationLevel']\n",
    "df_features = pd.get_dummies(df_model[col_features])\n",
    "df_features.head()"
   ]
  },
  {
   "cell_type": "code",
   "execution_count": 61,
   "metadata": {},
   "outputs": [
    {
     "data": {
      "text/html": [
       "<div>\n",
       "<style scoped>\n",
       "    .dataframe tbody tr th:only-of-type {\n",
       "        vertical-align: middle;\n",
       "    }\n",
       "\n",
       "    .dataframe tbody tr th {\n",
       "        vertical-align: top;\n",
       "    }\n",
       "\n",
       "    .dataframe thead th {\n",
       "        text-align: right;\n",
       "    }\n",
       "</style>\n",
       "<table border=\"1\" class=\"dataframe\">\n",
       "  <thead>\n",
       "    <tr style=\"text-align: right;\">\n",
       "      <th></th>\n",
       "      <th>DescriptionLength</th>\n",
       "      <th>CategoryId</th>\n",
       "      <th>JobTitleId</th>\n",
       "      <th>EducationLevel</th>\n",
       "      <th>City_Binghamton</th>\n",
       "      <th>City_Boston</th>\n",
       "      <th>City_Lodi</th>\n",
       "      <th>City_Los Angeles</th>\n",
       "      <th>City_New York</th>\n",
       "      <th>City_Newtonville</th>\n",
       "      <th>City_Sacramento</th>\n",
       "      <th>City_Syracuse</th>\n",
       "      <th>City_West Newton</th>\n",
       "      <th>State_CA</th>\n",
       "      <th>State_MA</th>\n",
       "      <th>State_NY</th>\n",
       "    </tr>\n",
       "    <tr>\n",
       "      <th>JobId</th>\n",
       "      <th></th>\n",
       "      <th></th>\n",
       "      <th></th>\n",
       "      <th></th>\n",
       "      <th></th>\n",
       "      <th></th>\n",
       "      <th></th>\n",
       "      <th></th>\n",
       "      <th></th>\n",
       "      <th></th>\n",
       "      <th></th>\n",
       "      <th></th>\n",
       "      <th></th>\n",
       "      <th></th>\n",
       "      <th></th>\n",
       "      <th></th>\n",
       "    </tr>\n",
       "  </thead>\n",
       "  <tbody>\n",
       "    <tr>\n",
       "      <th>1001</th>\n",
       "      <td>314</td>\n",
       "      <td>1</td>\n",
       "      <td>1</td>\n",
       "      <td>2.0</td>\n",
       "      <td>0</td>\n",
       "      <td>0</td>\n",
       "      <td>0</td>\n",
       "      <td>0</td>\n",
       "      <td>1</td>\n",
       "      <td>0</td>\n",
       "      <td>0</td>\n",
       "      <td>0</td>\n",
       "      <td>0</td>\n",
       "      <td>0</td>\n",
       "      <td>0</td>\n",
       "      <td>1</td>\n",
       "    </tr>\n",
       "    <tr>\n",
       "      <th>1002</th>\n",
       "      <td>199</td>\n",
       "      <td>4</td>\n",
       "      <td>11</td>\n",
       "      <td>1.0</td>\n",
       "      <td>0</td>\n",
       "      <td>0</td>\n",
       "      <td>0</td>\n",
       "      <td>0</td>\n",
       "      <td>1</td>\n",
       "      <td>0</td>\n",
       "      <td>0</td>\n",
       "      <td>0</td>\n",
       "      <td>0</td>\n",
       "      <td>0</td>\n",
       "      <td>0</td>\n",
       "      <td>1</td>\n",
       "    </tr>\n",
       "  </tbody>\n",
       "</table>\n",
       "</div>"
      ],
      "text/plain": [
       "       DescriptionLength  CategoryId  JobTitleId  EducationLevel  \\\n",
       "JobId                                                              \n",
       "1001                 314           1           1             2.0   \n",
       "1002                 199           4          11             1.0   \n",
       "\n",
       "       City_Binghamton  City_Boston  City_Lodi  City_Los Angeles  \\\n",
       "JobId                                                              \n",
       "1001                 0            0          0                 0   \n",
       "1002                 0            0          0                 0   \n",
       "\n",
       "       City_New York  City_Newtonville  City_Sacramento  City_Syracuse  \\\n",
       "JobId                                                                    \n",
       "1001               1                 0                0              0   \n",
       "1002               1                 0                0              0   \n",
       "\n",
       "       City_West Newton  State_CA  State_MA  State_NY  \n",
       "JobId                                                  \n",
       "1001                  0         0         0         1  \n",
       "1002                  0         0         0         1  "
      ]
     },
     "execution_count": 61,
     "metadata": {},
     "output_type": "execute_result"
    }
   ],
   "source": [
    "# extracting my target rows\n",
    "df_predict_to_model = df_features.loc[df_predict.index]\n",
    "df_predict_to_model"
   ]
  },
  {
   "cell_type": "code",
   "execution_count": 62,
   "metadata": {
    "scrolled": true
   },
   "outputs": [
    {
     "data": {
      "text/html": [
       "<div>\n",
       "<style scoped>\n",
       "    .dataframe tbody tr th:only-of-type {\n",
       "        vertical-align: middle;\n",
       "    }\n",
       "\n",
       "    .dataframe tbody tr th {\n",
       "        vertical-align: top;\n",
       "    }\n",
       "\n",
       "    .dataframe thead th {\n",
       "        text-align: right;\n",
       "    }\n",
       "</style>\n",
       "<table border=\"1\" class=\"dataframe\">\n",
       "  <thead>\n",
       "    <tr style=\"text-align: right;\">\n",
       "      <th></th>\n",
       "      <th>DescriptionLength</th>\n",
       "      <th>CategoryId</th>\n",
       "      <th>JobTitleId</th>\n",
       "      <th>EducationLevel</th>\n",
       "      <th>City_Binghamton</th>\n",
       "      <th>City_Boston</th>\n",
       "      <th>City_Lodi</th>\n",
       "      <th>City_Los Angeles</th>\n",
       "      <th>City_New York</th>\n",
       "      <th>City_Newtonville</th>\n",
       "      <th>City_Sacramento</th>\n",
       "      <th>City_Syracuse</th>\n",
       "      <th>City_West Newton</th>\n",
       "      <th>State_CA</th>\n",
       "      <th>State_MA</th>\n",
       "      <th>State_NY</th>\n",
       "    </tr>\n",
       "    <tr>\n",
       "      <th>JobId</th>\n",
       "      <th></th>\n",
       "      <th></th>\n",
       "      <th></th>\n",
       "      <th></th>\n",
       "      <th></th>\n",
       "      <th></th>\n",
       "      <th></th>\n",
       "      <th></th>\n",
       "      <th></th>\n",
       "      <th></th>\n",
       "      <th></th>\n",
       "      <th></th>\n",
       "      <th></th>\n",
       "      <th></th>\n",
       "      <th></th>\n",
       "      <th></th>\n",
       "    </tr>\n",
       "  </thead>\n",
       "  <tbody>\n",
       "    <tr>\n",
       "      <th>1</th>\n",
       "      <td>414</td>\n",
       "      <td>1</td>\n",
       "      <td>1</td>\n",
       "      <td>1.0</td>\n",
       "      <td>0</td>\n",
       "      <td>0</td>\n",
       "      <td>0</td>\n",
       "      <td>0</td>\n",
       "      <td>1</td>\n",
       "      <td>0</td>\n",
       "      <td>0</td>\n",
       "      <td>0</td>\n",
       "      <td>0</td>\n",
       "      <td>0</td>\n",
       "      <td>0</td>\n",
       "      <td>1</td>\n",
       "    </tr>\n",
       "    <tr>\n",
       "      <th>2</th>\n",
       "      <td>199</td>\n",
       "      <td>1</td>\n",
       "      <td>1</td>\n",
       "      <td>1.0</td>\n",
       "      <td>0</td>\n",
       "      <td>0</td>\n",
       "      <td>0</td>\n",
       "      <td>0</td>\n",
       "      <td>1</td>\n",
       "      <td>0</td>\n",
       "      <td>0</td>\n",
       "      <td>0</td>\n",
       "      <td>0</td>\n",
       "      <td>0</td>\n",
       "      <td>0</td>\n",
       "      <td>1</td>\n",
       "    </tr>\n",
       "    <tr>\n",
       "      <th>3</th>\n",
       "      <td>527</td>\n",
       "      <td>1</td>\n",
       "      <td>1</td>\n",
       "      <td>1.0</td>\n",
       "      <td>0</td>\n",
       "      <td>0</td>\n",
       "      <td>0</td>\n",
       "      <td>0</td>\n",
       "      <td>1</td>\n",
       "      <td>0</td>\n",
       "      <td>0</td>\n",
       "      <td>0</td>\n",
       "      <td>0</td>\n",
       "      <td>0</td>\n",
       "      <td>0</td>\n",
       "      <td>1</td>\n",
       "    </tr>\n",
       "    <tr>\n",
       "      <th>4</th>\n",
       "      <td>132</td>\n",
       "      <td>1</td>\n",
       "      <td>1</td>\n",
       "      <td>2.0</td>\n",
       "      <td>0</td>\n",
       "      <td>0</td>\n",
       "      <td>0</td>\n",
       "      <td>0</td>\n",
       "      <td>1</td>\n",
       "      <td>0</td>\n",
       "      <td>0</td>\n",
       "      <td>0</td>\n",
       "      <td>0</td>\n",
       "      <td>0</td>\n",
       "      <td>0</td>\n",
       "      <td>1</td>\n",
       "    </tr>\n",
       "    <tr>\n",
       "      <th>5</th>\n",
       "      <td>422</td>\n",
       "      <td>1</td>\n",
       "      <td>1</td>\n",
       "      <td>3.0</td>\n",
       "      <td>0</td>\n",
       "      <td>0</td>\n",
       "      <td>0</td>\n",
       "      <td>0</td>\n",
       "      <td>1</td>\n",
       "      <td>0</td>\n",
       "      <td>0</td>\n",
       "      <td>0</td>\n",
       "      <td>0</td>\n",
       "      <td>0</td>\n",
       "      <td>0</td>\n",
       "      <td>1</td>\n",
       "    </tr>\n",
       "  </tbody>\n",
       "</table>\n",
       "</div>"
      ],
      "text/plain": [
       "       DescriptionLength  CategoryId  JobTitleId  EducationLevel  \\\n",
       "JobId                                                              \n",
       "1                    414           1           1             1.0   \n",
       "2                    199           1           1             1.0   \n",
       "3                    527           1           1             1.0   \n",
       "4                    132           1           1             2.0   \n",
       "5                    422           1           1             3.0   \n",
       "\n",
       "       City_Binghamton  City_Boston  City_Lodi  City_Los Angeles  \\\n",
       "JobId                                                              \n",
       "1                    0            0          0                 0   \n",
       "2                    0            0          0                 0   \n",
       "3                    0            0          0                 0   \n",
       "4                    0            0          0                 0   \n",
       "5                    0            0          0                 0   \n",
       "\n",
       "       City_New York  City_Newtonville  City_Sacramento  City_Syracuse  \\\n",
       "JobId                                                                    \n",
       "1                  1                 0                0              0   \n",
       "2                  1                 0                0              0   \n",
       "3                  1                 0                0              0   \n",
       "4                  1                 0                0              0   \n",
       "5                  1                 0                0              0   \n",
       "\n",
       "       City_West Newton  State_CA  State_MA  State_NY  \n",
       "JobId                                                  \n",
       "1                     0         0         0         1  \n",
       "2                     0         0         0         1  \n",
       "3                     0         0         0         1  \n",
       "4                     0         0         0         1  \n",
       "5                     0         0         0         1  "
      ]
     },
     "execution_count": 62,
     "metadata": {},
     "output_type": "execute_result"
    }
   ],
   "source": [
    "# leaving only relevant data for training\n",
    "df_features = df_features.loc[~df_features.index.isin(df_predict_to_model.index)]\n",
    "df_features.head()"
   ]
  },
  {
   "cell_type": "code",
   "execution_count": 75,
   "metadata": {},
   "outputs": [],
   "source": [
    "from sklearn.model_selection import train_test_split\n",
    "X = df_features\n",
    "Y = df_model[['Clicks','Applicants']].loc[df_features.index]\n",
    "X_train, X_test, Y_train, Y_test = train_test_split(X, Y['Clicks'])"
   ]
  },
  {
   "cell_type": "code",
   "execution_count": 76,
   "metadata": {},
   "outputs": [
    {
     "data": {
      "text/plain": [
       "((747, 16), (249, 16), (747,), (249,))"
      ]
     },
     "execution_count": 76,
     "metadata": {},
     "output_type": "execute_result"
    }
   ],
   "source": [
    "X_train.shape, X_test.shape, Y_train.shape, Y_test.shape"
   ]
  },
  {
   "cell_type": "markdown",
   "metadata": {},
   "source": [
    "# Prediction with XGBoost model"
   ]
  },
  {
   "cell_type": "code",
   "execution_count": 79,
   "metadata": {},
   "outputs": [],
   "source": [
    "import xgboost as xgb\n",
    "dtrain = xgb.DMatrix(X_train, Y_train, feature_names=X_train.columns.values)\n",
    "dtest = xgb.DMatrix(X_test, Y_test, feature_names=X_test.columns.values)\n",
    "\n",
    "xgb_params = {\n",
    "    'eta': 0.05,\n",
    "    'max_depth': 5,\n",
    "    'subsample': 0.8,\n",
    "    'objective': 'reg:linear',\n",
    "    'eval_metric': 'rmse',\n",
    "    'silent': 1,\n",
    "    'seed' : 7,\n",
    "    'booster' : 'dart'\n",
    "}"
   ]
  },
  {
   "cell_type": "code",
   "execution_count": 80,
   "metadata": {
    "scrolled": false
   },
   "outputs": [
    {
     "name": "stdout",
     "output_type": "stream",
     "text": [
      "[0]\ttrain-rmse:158.437\ttest-rmse:158.442\n",
      "[50]\ttrain-rmse:12.9564\ttest-rmse:12.9006\n",
      "[100]\ttrain-rmse:1.12223\ttest-rmse:1.15469\n",
      "[150]\ttrain-rmse:0.232305\ttest-rmse:0.517456\n",
      "[199]\ttrain-rmse:0.166055\ttest-rmse:0.513752\n"
     ]
    },
    {
     "data": {
      "text/plain": [
       "<matplotlib.axes._subplots.AxesSubplot at 0x2288a75b400>"
      ]
     },
     "execution_count": 80,
     "metadata": {},
     "output_type": "execute_result"
    },
    {
     "data": {
      "image/png": "[encoded data removed]",
      "text/plain": [
       "<Figure size 432x288 with 1 Axes>"
      ]
     },
     "metadata": {},
     "output_type": "display_data"
    }
   ],
   "source": [
    "cv_output = xgb.cv(xgb_params, dtrain, num_boost_round=200, early_stopping_rounds=25, verbose_eval=50, show_stdv=False)\n",
    "cv_output[['train-rmse-mean', 'test-rmse-mean']].plot()"
   ]
  },
  {
   "cell_type": "code",
   "execution_count": 81,
   "metadata": {},
   "outputs": [
    {
     "data": {
      "text/html": [
       "<div>\n",
       "<style scoped>\n",
       "    .dataframe tbody tr th:only-of-type {\n",
       "        vertical-align: middle;\n",
       "    }\n",
       "\n",
       "    .dataframe tbody tr th {\n",
       "        vertical-align: top;\n",
       "    }\n",
       "\n",
       "    .dataframe thead th {\n",
       "        text-align: right;\n",
       "    }\n",
       "</style>\n",
       "<table border=\"1\" class=\"dataframe\">\n",
       "  <thead>\n",
       "    <tr style=\"text-align: right;\">\n",
       "      <th></th>\n",
       "      <th>train-rmse-mean</th>\n",
       "      <th>train-rmse-std</th>\n",
       "      <th>test-rmse-mean</th>\n",
       "      <th>test-rmse-std</th>\n",
       "    </tr>\n",
       "  </thead>\n",
       "  <tbody>\n",
       "    <tr>\n",
       "      <th>190</th>\n",
       "      <td>0.173994</td>\n",
       "      <td>0.006337</td>\n",
       "      <td>0.513430</td>\n",
       "      <td>0.034278</td>\n",
       "    </tr>\n",
       "    <tr>\n",
       "      <th>191</th>\n",
       "      <td>0.173156</td>\n",
       "      <td>0.006086</td>\n",
       "      <td>0.513408</td>\n",
       "      <td>0.034576</td>\n",
       "    </tr>\n",
       "    <tr>\n",
       "      <th>192</th>\n",
       "      <td>0.172148</td>\n",
       "      <td>0.006206</td>\n",
       "      <td>0.513553</td>\n",
       "      <td>0.034761</td>\n",
       "    </tr>\n",
       "    <tr>\n",
       "      <th>193</th>\n",
       "      <td>0.171043</td>\n",
       "      <td>0.005884</td>\n",
       "      <td>0.513539</td>\n",
       "      <td>0.034849</td>\n",
       "    </tr>\n",
       "    <tr>\n",
       "      <th>194</th>\n",
       "      <td>0.170056</td>\n",
       "      <td>0.005978</td>\n",
       "      <td>0.513701</td>\n",
       "      <td>0.035008</td>\n",
       "    </tr>\n",
       "    <tr>\n",
       "      <th>195</th>\n",
       "      <td>0.169096</td>\n",
       "      <td>0.006228</td>\n",
       "      <td>0.513861</td>\n",
       "      <td>0.034977</td>\n",
       "    </tr>\n",
       "    <tr>\n",
       "      <th>196</th>\n",
       "      <td>0.168272</td>\n",
       "      <td>0.006288</td>\n",
       "      <td>0.513732</td>\n",
       "      <td>0.035348</td>\n",
       "    </tr>\n",
       "    <tr>\n",
       "      <th>197</th>\n",
       "      <td>0.167516</td>\n",
       "      <td>0.006283</td>\n",
       "      <td>0.513762</td>\n",
       "      <td>0.035441</td>\n",
       "    </tr>\n",
       "    <tr>\n",
       "      <th>198</th>\n",
       "      <td>0.166825</td>\n",
       "      <td>0.006336</td>\n",
       "      <td>0.513845</td>\n",
       "      <td>0.035639</td>\n",
       "    </tr>\n",
       "    <tr>\n",
       "      <th>199</th>\n",
       "      <td>0.166055</td>\n",
       "      <td>0.006494</td>\n",
       "      <td>0.513752</td>\n",
       "      <td>0.035802</td>\n",
       "    </tr>\n",
       "  </tbody>\n",
       "</table>\n",
       "</div>"
      ],
      "text/plain": [
       "     train-rmse-mean  train-rmse-std  test-rmse-mean  test-rmse-std\n",
       "190         0.173994        0.006337        0.513430       0.034278\n",
       "191         0.173156        0.006086        0.513408       0.034576\n",
       "192         0.172148        0.006206        0.513553       0.034761\n",
       "193         0.171043        0.005884        0.513539       0.034849\n",
       "194         0.170056        0.005978        0.513701       0.035008\n",
       "195         0.169096        0.006228        0.513861       0.034977\n",
       "196         0.168272        0.006288        0.513732       0.035348\n",
       "197         0.167516        0.006283        0.513762       0.035441\n",
       "198         0.166825        0.006336        0.513845       0.035639\n",
       "199         0.166055        0.006494        0.513752       0.035802"
      ]
     },
     "execution_count": 81,
     "metadata": {},
     "output_type": "execute_result"
    }
   ],
   "source": [
    "cv_output.tail(10)"
   ]
  },
  {
   "cell_type": "code",
   "execution_count": 82,
   "metadata": {},
   "outputs": [],
   "source": [
    "num_boost_rounds = len(cv_output)\n",
    "model_clk = xgb.train(dict(xgb_params, silent=0), dtrain, num_boost_round= num_boost_rounds)"
   ]
  },
  {
   "cell_type": "code",
   "execution_count": 83,
   "metadata": {},
   "outputs": [
    {
     "data": {
      "text/plain": [
       "<matplotlib.axes._subplots.AxesSubplot at 0x228892ab048>"
      ]
     },
     "execution_count": 83,
     "metadata": {},
     "output_type": "execute_result"
    },
    {
     "data": {
      "image/png": "[encoded data removed]",
      "text/plain": [
       "<Figure size 720x360 with 1 Axes>"
      ]
     },
     "metadata": {},
     "output_type": "display_data"
    }
   ],
   "source": [
    "# Feature Importance \n",
    "\n",
    "fig, ax = plt.subplots(1, 1, figsize=(10, 5))\n",
    "xgb.plot_importance(model_clk, max_num_features=10, height=0.5, ax=ax)"
   ]
  },
  {
   "cell_type": "code",
   "execution_count": 84,
   "metadata": {},
   "outputs": [
    {
     "name": "stdout",
     "output_type": "stream",
     "text": [
      "RMSE of Clicks model 6.808877773527039\n"
     ]
    }
   ],
   "source": [
    "Y_test_tag = model_clk.predict(xgb.DMatrix(X_test, feature_names=X_test.columns.values))\n",
    "print('RMSE of Clicks model',np.sqrt(np.sum((Y_test-Y_test_tag)**2)))"
   ]
  },
  {
   "cell_type": "code",
   "execution_count": 85,
   "metadata": {
    "scrolled": true
   },
   "outputs": [
    {
     "name": "stdout",
     "output_type": "stream",
     "text": [
      "Clicks Prediction is : [95.03198  60.025097] for JobIds [1001 1002]\n"
     ]
    },
    {
     "data": {
      "text/html": [
       "<div>\n",
       "<style scoped>\n",
       "    .dataframe tbody tr th:only-of-type {\n",
       "        vertical-align: middle;\n",
       "    }\n",
       "\n",
       "    .dataframe tbody tr th {\n",
       "        vertical-align: top;\n",
       "    }\n",
       "\n",
       "    .dataframe thead th {\n",
       "        text-align: right;\n",
       "    }\n",
       "</style>\n",
       "<table border=\"1\" class=\"dataframe\">\n",
       "  <thead>\n",
       "    <tr style=\"text-align: right;\">\n",
       "      <th></th>\n",
       "      <th>JobTitleId</th>\n",
       "      <th>CategoryId</th>\n",
       "      <th>City</th>\n",
       "      <th>State</th>\n",
       "      <th>DescriptionLength</th>\n",
       "      <th>EducationLevel</th>\n",
       "      <th>Clicks</th>\n",
       "    </tr>\n",
       "    <tr>\n",
       "      <th>JobId</th>\n",
       "      <th></th>\n",
       "      <th></th>\n",
       "      <th></th>\n",
       "      <th></th>\n",
       "      <th></th>\n",
       "      <th></th>\n",
       "      <th></th>\n",
       "    </tr>\n",
       "  </thead>\n",
       "  <tbody>\n",
       "    <tr>\n",
       "      <th>1001</th>\n",
       "      <td>1</td>\n",
       "      <td>1</td>\n",
       "      <td>New York</td>\n",
       "      <td>NY</td>\n",
       "      <td>314</td>\n",
       "      <td>2</td>\n",
       "      <td>95.031982</td>\n",
       "    </tr>\n",
       "    <tr>\n",
       "      <th>1002</th>\n",
       "      <td>11</td>\n",
       "      <td>4</td>\n",
       "      <td>New York</td>\n",
       "      <td>NY</td>\n",
       "      <td>199</td>\n",
       "      <td>1</td>\n",
       "      <td>60.025097</td>\n",
       "    </tr>\n",
       "  </tbody>\n",
       "</table>\n",
       "</div>"
      ],
      "text/plain": [
       "       JobTitleId  CategoryId      City State  DescriptionLength  \\\n",
       "JobId                                                              \n",
       "1001            1           1  New York    NY                314   \n",
       "1002           11           4  New York    NY                199   \n",
       "\n",
       "       EducationLevel     Clicks  \n",
       "JobId                             \n",
       "1001                2  95.031982  \n",
       "1002                1  60.025097  "
      ]
     },
     "execution_count": 85,
     "metadata": {},
     "output_type": "execute_result"
    }
   ],
   "source": [
    "#i am using chaining, because  clicks are converted into applicants\n",
    "Y_predict = model_clk.predict(xgb.DMatrix(df_predict_to_model, feature_names=df_predict_to_model.columns.values))\n",
    "print('Clicks Prediction is :', Y_predict,'for JobIds',df_predict_to_model.index.values)\n",
    "df_predict['Clicks'] = Y_predict\n",
    "df_predict"
   ]
  },
  {
   "cell_type": "markdown",
   "metadata": {
    "collapsed": true
   },
   "source": [
    "# Predict Applicants"
   ]
  },
  {
   "cell_type": "code",
   "execution_count": 86,
   "metadata": {},
   "outputs": [
    {
     "data": {
      "text/html": [
       "<div>\n",
       "<style scoped>\n",
       "    .dataframe tbody tr th:only-of-type {\n",
       "        vertical-align: middle;\n",
       "    }\n",
       "\n",
       "    .dataframe tbody tr th {\n",
       "        vertical-align: top;\n",
       "    }\n",
       "\n",
       "    .dataframe thead th {\n",
       "        text-align: right;\n",
       "    }\n",
       "</style>\n",
       "<table border=\"1\" class=\"dataframe\">\n",
       "  <thead>\n",
       "    <tr style=\"text-align: right;\">\n",
       "      <th></th>\n",
       "      <th>DescriptionLength</th>\n",
       "      <th>CategoryId</th>\n",
       "      <th>JobTitleId</th>\n",
       "      <th>EducationLevel</th>\n",
       "      <th>City_Binghamton</th>\n",
       "      <th>City_Boston</th>\n",
       "      <th>City_Lodi</th>\n",
       "      <th>City_Los Angeles</th>\n",
       "      <th>City_New York</th>\n",
       "      <th>City_Newtonville</th>\n",
       "      <th>City_Sacramento</th>\n",
       "      <th>City_Syracuse</th>\n",
       "      <th>City_West Newton</th>\n",
       "      <th>State_CA</th>\n",
       "      <th>State_MA</th>\n",
       "      <th>State_NY</th>\n",
       "      <th>Clicks</th>\n",
       "    </tr>\n",
       "    <tr>\n",
       "      <th>JobId</th>\n",
       "      <th></th>\n",
       "      <th></th>\n",
       "      <th></th>\n",
       "      <th></th>\n",
       "      <th></th>\n",
       "      <th></th>\n",
       "      <th></th>\n",
       "      <th></th>\n",
       "      <th></th>\n",
       "      <th></th>\n",
       "      <th></th>\n",
       "      <th></th>\n",
       "      <th></th>\n",
       "      <th></th>\n",
       "      <th></th>\n",
       "      <th></th>\n",
       "      <th></th>\n",
       "    </tr>\n",
       "  </thead>\n",
       "  <tbody>\n",
       "    <tr>\n",
       "      <th>1001</th>\n",
       "      <td>314</td>\n",
       "      <td>1</td>\n",
       "      <td>1</td>\n",
       "      <td>2.0</td>\n",
       "      <td>0</td>\n",
       "      <td>0</td>\n",
       "      <td>0</td>\n",
       "      <td>0</td>\n",
       "      <td>1</td>\n",
       "      <td>0</td>\n",
       "      <td>0</td>\n",
       "      <td>0</td>\n",
       "      <td>0</td>\n",
       "      <td>0</td>\n",
       "      <td>0</td>\n",
       "      <td>1</td>\n",
       "      <td>95.031982</td>\n",
       "    </tr>\n",
       "    <tr>\n",
       "      <th>1002</th>\n",
       "      <td>199</td>\n",
       "      <td>4</td>\n",
       "      <td>11</td>\n",
       "      <td>1.0</td>\n",
       "      <td>0</td>\n",
       "      <td>0</td>\n",
       "      <td>0</td>\n",
       "      <td>0</td>\n",
       "      <td>1</td>\n",
       "      <td>0</td>\n",
       "      <td>0</td>\n",
       "      <td>0</td>\n",
       "      <td>0</td>\n",
       "      <td>0</td>\n",
       "      <td>0</td>\n",
       "      <td>1</td>\n",
       "      <td>60.025097</td>\n",
       "    </tr>\n",
       "  </tbody>\n",
       "</table>\n",
       "</div>"
      ],
      "text/plain": [
       "       DescriptionLength  CategoryId  JobTitleId  EducationLevel  \\\n",
       "JobId                                                              \n",
       "1001                 314           1           1             2.0   \n",
       "1002                 199           4          11             1.0   \n",
       "\n",
       "       City_Binghamton  City_Boston  City_Lodi  City_Los Angeles  \\\n",
       "JobId                                                              \n",
       "1001                 0            0          0                 0   \n",
       "1002                 0            0          0                 0   \n",
       "\n",
       "       City_New York  City_Newtonville  City_Sacramento  City_Syracuse  \\\n",
       "JobId                                                                    \n",
       "1001               1                 0                0              0   \n",
       "1002               1                 0                0              0   \n",
       "\n",
       "       City_West Newton  State_CA  State_MA  State_NY     Clicks  \n",
       "JobId                                                             \n",
       "1001                  0         0         0         1  95.031982  \n",
       "1002                  0         0         0         1  60.025097  "
      ]
     },
     "execution_count": 86,
     "metadata": {},
     "output_type": "execute_result"
    }
   ],
   "source": [
    "X_train_app = X_train.join(df_model['Clicks'])\n",
    "X_test_app = X_test.join(df_model['Clicks'])\n",
    "Y_train_app = df_model['Applicants'].loc[X_train_app.index]\n",
    "Y_test_app = df_model['Applicants'].loc[X_test_app.index]\n",
    "\n",
    "df_predict_to_model['Clicks'] = Y_predict\n",
    "features_for_app = df_predict_to_model.columns.values\n",
    "df_predict_to_model"
   ]
  },
  {
   "cell_type": "code",
   "execution_count": 87,
   "metadata": {},
   "outputs": [
    {
     "name": "stdout",
     "output_type": "stream",
     "text": [
      "Training with ['DescriptionLength' 'CategoryId' 'JobTitleId' 'EducationLevel'\n",
      " 'City_Binghamton' 'City_Boston' 'City_Lodi' 'City_Los Angeles'\n",
      " 'City_New York' 'City_Newtonville' 'City_Sacramento' 'City_Syracuse'\n",
      " 'City_West Newton' 'State_CA' 'State_MA' 'State_NY' 'Clicks']\n"
     ]
    }
   ],
   "source": [
    "import xgboost as xgb\n",
    "dtrain = xgb.DMatrix(X_train_app, Y_train_app, feature_names=X_train_app.columns.values)\n",
    "dtest = xgb.DMatrix(X_test_app, Y_test_app, feature_names=X_test_app.columns.values)\n",
    "print('Training with',X_train_app.columns.values)\n",
    "\n",
    "xgb_params =  {\n",
    "    'eta': 0.05,\n",
    "    'max_depth': 5,\n",
    "    'subsample': 0.8,\n",
    "    'objective': 'reg:linear',\n",
    "    'eval_metric': 'rmse',\n",
    "    'silent': 1,\n",
    "    'seed' : 7,\n",
    "     'booster' : 'dart'\n",
    "}"
   ]
  },
  {
   "cell_type": "code",
   "execution_count": 88,
   "metadata": {
    "scrolled": false
   },
   "outputs": [
    {
     "name": "stdout",
     "output_type": "stream",
     "text": [
      "[0]\ttrain-rmse:21.3005\ttest-rmse:21.3106\n",
      "[50]\ttrain-rmse:5.95618\ttest-rmse:8.06661\n",
      "[99]\ttrain-rmse:4.62072\ttest-rmse:8.02555\n"
     ]
    },
    {
     "data": {
      "text/plain": [
       "<matplotlib.axes._subplots.AxesSubplot at 0x2288a835b70>"
      ]
     },
     "execution_count": 88,
     "metadata": {},
     "output_type": "execute_result"
    },
    {
     "data": {
      "image/png": "[encoded data removed]",
      "text/plain": [
       "<Figure size 432x288 with 1 Axes>"
      ]
     },
     "metadata": {},
     "output_type": "display_data"
    }
   ],
   "source": [
    "cv_output = xgb.cv(xgb_params, dtrain, num_boost_round=100, early_stopping_rounds=50, verbose_eval=50, show_stdv=False)\n",
    "cv_output[['train-rmse-mean', 'test-rmse-mean']].plot()"
   ]
  },
  {
   "cell_type": "code",
   "execution_count": 89,
   "metadata": {},
   "outputs": [
    {
     "data": {
      "text/html": [
       "<div>\n",
       "<style scoped>\n",
       "    .dataframe tbody tr th:only-of-type {\n",
       "        vertical-align: middle;\n",
       "    }\n",
       "\n",
       "    .dataframe tbody tr th {\n",
       "        vertical-align: top;\n",
       "    }\n",
       "\n",
       "    .dataframe thead th {\n",
       "        text-align: right;\n",
       "    }\n",
       "</style>\n",
       "<table border=\"1\" class=\"dataframe\">\n",
       "  <thead>\n",
       "    <tr style=\"text-align: right;\">\n",
       "      <th></th>\n",
       "      <th>train-rmse-mean</th>\n",
       "      <th>train-rmse-std</th>\n",
       "      <th>test-rmse-mean</th>\n",
       "      <th>test-rmse-std</th>\n",
       "    </tr>\n",
       "  </thead>\n",
       "  <tbody>\n",
       "    <tr>\n",
       "      <th>90</th>\n",
       "      <td>4.784625</td>\n",
       "      <td>0.088497</td>\n",
       "      <td>7.999036</td>\n",
       "      <td>0.056841</td>\n",
       "    </tr>\n",
       "    <tr>\n",
       "      <th>91</th>\n",
       "      <td>4.763956</td>\n",
       "      <td>0.092104</td>\n",
       "      <td>8.007743</td>\n",
       "      <td>0.058306</td>\n",
       "    </tr>\n",
       "    <tr>\n",
       "      <th>92</th>\n",
       "      <td>4.743945</td>\n",
       "      <td>0.087156</td>\n",
       "      <td>8.008151</td>\n",
       "      <td>0.054995</td>\n",
       "    </tr>\n",
       "    <tr>\n",
       "      <th>93</th>\n",
       "      <td>4.720837</td>\n",
       "      <td>0.087058</td>\n",
       "      <td>8.013948</td>\n",
       "      <td>0.062762</td>\n",
       "    </tr>\n",
       "    <tr>\n",
       "      <th>94</th>\n",
       "      <td>4.701797</td>\n",
       "      <td>0.082653</td>\n",
       "      <td>8.012334</td>\n",
       "      <td>0.061924</td>\n",
       "    </tr>\n",
       "    <tr>\n",
       "      <th>95</th>\n",
       "      <td>4.682224</td>\n",
       "      <td>0.088817</td>\n",
       "      <td>8.011598</td>\n",
       "      <td>0.061670</td>\n",
       "    </tr>\n",
       "    <tr>\n",
       "      <th>96</th>\n",
       "      <td>4.666329</td>\n",
       "      <td>0.085322</td>\n",
       "      <td>8.023761</td>\n",
       "      <td>0.066953</td>\n",
       "    </tr>\n",
       "    <tr>\n",
       "      <th>97</th>\n",
       "      <td>4.653297</td>\n",
       "      <td>0.081148</td>\n",
       "      <td>8.023008</td>\n",
       "      <td>0.062857</td>\n",
       "    </tr>\n",
       "    <tr>\n",
       "      <th>98</th>\n",
       "      <td>4.639586</td>\n",
       "      <td>0.082246</td>\n",
       "      <td>8.025379</td>\n",
       "      <td>0.070961</td>\n",
       "    </tr>\n",
       "    <tr>\n",
       "      <th>99</th>\n",
       "      <td>4.620717</td>\n",
       "      <td>0.079106</td>\n",
       "      <td>8.025546</td>\n",
       "      <td>0.071744</td>\n",
       "    </tr>\n",
       "  </tbody>\n",
       "</table>\n",
       "</div>"
      ],
      "text/plain": [
       "    train-rmse-mean  train-rmse-std  test-rmse-mean  test-rmse-std\n",
       "90         4.784625        0.088497        7.999036       0.056841\n",
       "91         4.763956        0.092104        8.007743       0.058306\n",
       "92         4.743945        0.087156        8.008151       0.054995\n",
       "93         4.720837        0.087058        8.013948       0.062762\n",
       "94         4.701797        0.082653        8.012334       0.061924\n",
       "95         4.682224        0.088817        8.011598       0.061670\n",
       "96         4.666329        0.085322        8.023761       0.066953\n",
       "97         4.653297        0.081148        8.023008       0.062857\n",
       "98         4.639586        0.082246        8.025379       0.070961\n",
       "99         4.620717        0.079106        8.025546       0.071744"
      ]
     },
     "execution_count": 89,
     "metadata": {},
     "output_type": "execute_result"
    }
   ],
   "source": [
    "cv_output.tail(10)"
   ]
  },
  {
   "cell_type": "code",
   "execution_count": 90,
   "metadata": {},
   "outputs": [],
   "source": [
    "num_boost_rounds = len(cv_output)\n",
    "model_app = xgb.train(dict(xgb_params, silent=0), dtrain, num_boost_round= num_boost_rounds)"
   ]
  },
  {
   "cell_type": "code",
   "execution_count": 91,
   "metadata": {},
   "outputs": [
    {
     "data": {
      "text/plain": [
       "<matplotlib.axes._subplots.AxesSubplot at 0x2288a89fa90>"
      ]
     },
     "execution_count": 91,
     "metadata": {},
     "output_type": "execute_result"
    },
    {
     "data": {
      "image/png": "[encoded data removed]",
      "text/plain": [
       "<Figure size 576x720 with 1 Axes>"
      ]
     },
     "metadata": {},
     "output_type": "display_data"
    }
   ],
   "source": [
    "fig, ax = plt.subplots(1, 1, figsize=(8, 10))\n",
    "xgb.plot_importance(model_app, max_num_features=10, height=0.5, ax=ax)"
   ]
  },
  {
   "cell_type": "code",
   "execution_count": 92,
   "metadata": {},
   "outputs": [
    {
     "name": "stdout",
     "output_type": "stream",
     "text": [
      "RMSE of Applicants model 122.3234534384144  this can be improved by predicting the log of Applicants\n"
     ]
    }
   ],
   "source": [
    "Y_test_app_tag = model_app.predict(xgb.DMatrix(X_test_app, feature_names=X_test_app.columns.values))\n",
    "print('RMSE of Applicants model',np.sqrt(np.sum((Y_test_app-Y_test_app_tag)**2)),' this can be improved by predicting the log of Applicants')"
   ]
  },
  {
   "cell_type": "code",
   "execution_count": 93,
   "metadata": {
    "scrolled": true
   },
   "outputs": [
    {
     "name": "stdout",
     "output_type": "stream",
     "text": [
      "Applicants Prediction is : [11.854818   7.9571013] for JobIds [1001 1002]\n"
     ]
    },
    {
     "data": {
      "text/html": [
       "<div>\n",
       "<style scoped>\n",
       "    .dataframe tbody tr th:only-of-type {\n",
       "        vertical-align: middle;\n",
       "    }\n",
       "\n",
       "    .dataframe tbody tr th {\n",
       "        vertical-align: top;\n",
       "    }\n",
       "\n",
       "    .dataframe thead th {\n",
       "        text-align: right;\n",
       "    }\n",
       "</style>\n",
       "<table border=\"1\" class=\"dataframe\">\n",
       "  <thead>\n",
       "    <tr style=\"text-align: right;\">\n",
       "      <th></th>\n",
       "      <th>JobTitleId</th>\n",
       "      <th>CategoryId</th>\n",
       "      <th>City</th>\n",
       "      <th>State</th>\n",
       "      <th>DescriptionLength</th>\n",
       "      <th>EducationLevel</th>\n",
       "      <th>Clicks</th>\n",
       "      <th>Applicants</th>\n",
       "    </tr>\n",
       "    <tr>\n",
       "      <th>JobId</th>\n",
       "      <th></th>\n",
       "      <th></th>\n",
       "      <th></th>\n",
       "      <th></th>\n",
       "      <th></th>\n",
       "      <th></th>\n",
       "      <th></th>\n",
       "      <th></th>\n",
       "    </tr>\n",
       "  </thead>\n",
       "  <tbody>\n",
       "    <tr>\n",
       "      <th>1001</th>\n",
       "      <td>1</td>\n",
       "      <td>1</td>\n",
       "      <td>New York</td>\n",
       "      <td>NY</td>\n",
       "      <td>314</td>\n",
       "      <td>2</td>\n",
       "      <td>95.031982</td>\n",
       "      <td>11.854818</td>\n",
       "    </tr>\n",
       "    <tr>\n",
       "      <th>1002</th>\n",
       "      <td>11</td>\n",
       "      <td>4</td>\n",
       "      <td>New York</td>\n",
       "      <td>NY</td>\n",
       "      <td>199</td>\n",
       "      <td>1</td>\n",
       "      <td>60.025097</td>\n",
       "      <td>7.957101</td>\n",
       "    </tr>\n",
       "  </tbody>\n",
       "</table>\n",
       "</div>"
      ],
      "text/plain": [
       "       JobTitleId  CategoryId      City State  DescriptionLength  \\\n",
       "JobId                                                              \n",
       "1001            1           1  New York    NY                314   \n",
       "1002           11           4  New York    NY                199   \n",
       "\n",
       "       EducationLevel     Clicks  Applicants  \n",
       "JobId                                         \n",
       "1001                2  95.031982   11.854818  \n",
       "1002                1  60.025097    7.957101  "
      ]
     },
     "execution_count": 93,
     "metadata": {},
     "output_type": "execute_result"
    }
   ],
   "source": [
    "Y_predict = model_app.predict(xgb.DMatrix(df_predict_to_model, feature_names=df_predict_to_model.columns.values))\n",
    "print('Applicants Prediction is :', Y_predict,'for JobIds',df_predict_to_model.index.values)\n",
    "df_predict['Applicants'] = Y_predict\n",
    "df_predict"
   ]
  },
  {
   "cell_type": "markdown",
   "metadata": {},
   "source": [
    "## Question 3.2 How I estimate the prediction? "
   ]
  },
  {
   "cell_type": "code",
   "execution_count": 94,
   "metadata": {},
   "outputs": [],
   "source": [
    "# The prediction capability of the models was estimated using RMSE, measured in the units of the predicted variable. \n",
    "# Each need will decide if a size of the RMSE is okay, like  "
   ]
  },
  {
   "cell_type": "code",
   "execution_count": 95,
   "metadata": {
    "scrolled": false
   },
   "outputs": [
    {
     "name": "stderr",
     "output_type": "stream",
     "text": [
      "c:\\miniconda3\\lib\\site-packages\\ipykernel_launcher.py:5: FutureWarning: Sorting because non-concatenation axis is not aligned. A future version\n",
      "of pandas will change to not sort by default.\n",
      "\n",
      "To accept the future behavior, pass 'sort=True'.\n",
      "\n",
      "To retain the current behavior and silence the warning, pass sort=False\n",
      "\n",
      "  \"\"\"\n"
     ]
    },
    {
     "data": {
      "text/plain": [
       "<seaborn.axisgrid.PairGrid at 0x2288a8d0048>"
      ]
     },
     "execution_count": 95,
     "metadata": {},
     "output_type": "execute_result"
    },
    {
     "data": {
      "image/png": "[encoded data removed]",
      "text/plain": [
       "<Figure size 603.5x540 with 12 Axes>"
      ]
     },
     "metadata": {},
     "output_type": "display_data"
    }
   ],
   "source": [
    "df_all['FromModel'] = 0\n",
    "df_predict['FromModel'] = 1\n",
    "pplot_vars = ['Applicants','Clicks','DescriptionLength']\n",
    "pplot_hue = 'FromModel'\n",
    "sns.pairplot(pd.concat([df_predict, df_all])[pplot_vars+[pplot_hue]], vars=pplot_vars,hue=pplot_hue)"
   ]
  },
  {
   "cell_type": "markdown",
   "metadata": {},
   "source": [
    "# KMEANS"
   ]
  },
  {
   "cell_type": "code",
   "execution_count": 115,
   "metadata": {},
   "outputs": [],
   "source": [
    "\n",
    "from sklearn.cluster import KMeans\n"
   ]
  },
  {
   "cell_type": "code",
   "execution_count": 116,
   "metadata": {},
   "outputs": [],
   "source": [
    "X = df_features\n",
    "Y = df_model[['Clicks','Applicants']].loc[df_features.index]\n",
    "X_train, X_test, Y_train, Y_test = train_test_split(X, Y['Clicks'])"
   ]
  },
  {
   "cell_type": "code",
   "execution_count": 121,
   "metadata": {},
   "outputs": [
    {
     "data": {
      "text/plain": [
       "KMeans(algorithm='auto', copy_x=True, init='k-means++', max_iter=300,\n",
       "    n_clusters=3, n_init=10, n_jobs=1, precompute_distances='auto',\n",
       "    random_state=None, tol=0.0001, verbose=0)"
      ]
     },
     "execution_count": 121,
     "metadata": {},
     "output_type": "execute_result"
    }
   ],
   "source": [
    "cluster = pd.Series(model.fit_predict(X))\n",
    "\n",
    "\n",
    "k = 3\n",
    "\n",
    "kmeans = KMeans(n_clusters=3)  \n",
    "kmeans.fit(X) \n",
    "# df_predict['cluster']= pd.Series(model.fit_predict(X))\n",
    "# df_predict.head(10)"
   ]
  },
  {
   "cell_type": "code",
   "execution_count": 122,
   "metadata": {},
   "outputs": [
    {
     "name": "stdout",
     "output_type": "stream",
     "text": [
      "[[2.25723810e+02 2.07936508e+00 5.37142857e+00 2.05079365e+00\n",
      "  8.88888889e-02 1.30158730e-01 9.20634921e-02 8.57142857e-02\n",
      "  1.11111111e-01 1.36507937e-01 1.01587302e-01 1.11111111e-01\n",
      "  1.42857143e-01 2.79365079e-01 4.09523810e-01 3.11111111e-01]\n",
      " [7.62335312e+02 2.08605341e+00 5.45103858e+00 1.97032641e+00\n",
      "  1.18694362e-01 1.00890208e-01 1.12759644e-01 1.12759644e-01\n",
      "  1.18694362e-01 9.49554896e-02 1.45400593e-01 1.24629080e-01\n",
      "  7.12166172e-02 3.70919881e-01 2.67062315e-01 3.62017804e-01]\n",
      " [4.96636628e+02 2.13662791e+00 5.67732558e+00 1.96802326e+00\n",
      "  1.22093023e-01 1.01744186e-01 9.59302326e-02 1.27906977e-01\n",
      "  1.01744186e-01 1.27906977e-01 1.13372093e-01 9.01162791e-02\n",
      "  1.19186047e-01 3.37209302e-01 3.48837209e-01 3.13953488e-01]]\n"
     ]
    }
   ],
   "source": [
    "print(kmeans.cluster_centers_)  "
   ]
  },
  {
   "cell_type": "code",
   "execution_count": 123,
   "metadata": {},
   "outputs": [
    {
     "name": "stdout",
     "output_type": "stream",
     "text": [
      "[2 0 2 0 2 0 0 0 1 1 1 0 2 2 1 1 1 1 2 1 0 0 1 2 2 1 0 2 2 1 1 1 1 2 1 0 1\n",
      " 1 2 0 2 0 1 1 0 0 2 0 1 1 1 0 0 0 2 2 2 0 0 0 1 1 1 1 2 1 2 2 0 0 0 0 2 0\n",
      " 0 0 2 0 0 1 2 1 0 1 2 2 0 0 0 0 2 1 1 0 0 0 0 1 2 0 2 1 0 0 2 1 1 1 1 2 0\n",
      " 1 2 0 2 1 1 1 2 1 0 1 0 2 1 2 0 0 0 1 1 0 0 2 0 0 1 2 1 1 1 0 1 0 0 0 1 1\n",
      " 2 0 1 0 2 1 2 0 2 2 2 1 0 1 2 2 2 1 2 0 0 0 2 1 2 0 0 2 1 2 0 0 2 1 1 0 2\n",
      " 0 1 2 0 0 1 1 0 2 1 2 2 0 2 1 2 2 0 1 2 1 0 0 2 2 1 1 1 0 1 1 0 0 1 1 1 1\n",
      " 1 1 0 1 1 1 2 2 2 2 1 2 1 2 1 2 1 0 1 1 1 1 1 2 2 1 0 2 1 2 2 2 2 0 2 1 2\n",
      " 1 1 2 2 0 2 0 1 1 2 0 2 1 2 0 1 0 2 2 0 0 0 0 2 2 0 0 1 1 0 1 2 0 2 2 1 0\n",
      " 2 0 1 0 1 0 1 1 0 0 1 1 0 2 1 2 0 1 0 2 2 1 0 2 0 1 1 0 2 2 2 1 0 1 0 0 2\n",
      " 1 2 1 2 0 0 1 2 2 2 2 0 0 1 1 1 2 1 2 0 1 1 1 2 2 2 2 1 1 1 2 2 2 2 1 2 1\n",
      " 2 0 1 0 0 1 2 1 2 2 2 1 1 2 0 2 0 2 0 2 0 0 1 0 1 2 0 0 1 2 0 0 2 1 1 0 1\n",
      " 2 2 1 0 1 1 2 2 1 0 2 0 1 2 2 1 1 0 2 1 1 2 0 1 1 2 1 2 1 0 1 2 0 2 2 0 1\n",
      " 1 2 1 2 2 2 0 1 1 1 2 2 2 1 0 1 2 0 0 2 2 0 1 2 2 2 2 2 1 1 2 1 2 2 1 2 0\n",
      " 2 0 0 1 0 1 2 2 1 1 0 1 2 2 2 0 1 0 1 0 1 2 2 2 0 0 1 0 1 0 2 2 2 1 0 0 2\n",
      " 2 2 0 2 0 0 2 2 2 0 1 1 2 0 0 0 0 2 2 1 1 2 1 0 0 1 2 1 0 2 0 1 1 2 0 0 2\n",
      " 2 2 2 2 0 0 0 0 1 0 0 0 1 0 1 0 0 0 0 2 1 2 2 1 2 1 2 0 0 1 0 1 0 1 2 0 2\n",
      " 0 0 2 2 1 1 2 0 2 0 1 1 1 1 0 0 0 2 0 0 1 2 1 1 1 1 0 2 0 1 1 0 1 2 2 2 1\n",
      " 0 1 1 1 2 0 1 2 0 2 0 1 0 2 1 1 1 1 0 1 2 1 2 2 0 0 1 0 0 0 1 0 1 1 2 1 0\n",
      " 2 2 0 0 2 0 0 1 2 1 1 2 2 2 1 2 0 0 0 0 0 1 2 0 0 0 1 2 2 0 0 0 0 2 2 0 2\n",
      " 2 1 1 1 1 1 2 0 0 2 1 0 2 1 0 0 2 2 2 0 2 2 0 2 0 2 1 2 1 2 1 1 1 0 0 2 2\n",
      " 1 1 2 2 0 0 1 1 0 2 2 0 2 0 2 2 2 1 1 2 0 0 2 0 0 0 1 2 1 0 1 0 0 2 0 2 2\n",
      " 2 0 1 2 0 0 0 0 2 0 2 0 2 1 2 2 1 0 1 1 2 2 2 1 1 1 2 1 0 2 1 1 0 0 1 1 1\n",
      " 2 1 2 0 1 1 2 2 2 1 0 0 1 2 2 1 2 1 1 2 2 0 1 0 1 1 0 1 0 1 2 1 0 2 2 0 0\n",
      " 2 1 2 1 2 1 1 1 2 1 1 0 2 0 1 1 0 2 2 0 1 2 2 1 1 2 1 0 1 2 0 0 2 2 1 1 2\n",
      " 0 2 1 2 1 2 1 0 1 2 2 2 2 2 0 1 2 0 0 0 0 2 0 2 1 2 0 2 2 0 0 1 0 2 1 2 2\n",
      " 1 1 2 0 0 1 0 0 2 2 2 1 2 0 1 2 2 0 1 1 1 1 2 1 0 2 2 1 2 1 1 0 2 0 1 1 2\n",
      " 2 2 0 2 2 1 2 2 0 2 0 2 1 1 1 0 0 2 0 1 0 2 1 0 0 1 0 2 0 2 1 1 1 1]\n"
     ]
    }
   ],
   "source": [
    "print(kmeans.labels_)  "
   ]
  },
  {
   "cell_type": "code",
   "execution_count": 124,
   "metadata": {},
   "outputs": [
    {
     "data": {
      "text/plain": [
       "<matplotlib.collections.PathCollection at 0x2288bba6470>"
      ]
     },
     "execution_count": 124,
     "metadata": {},
     "output_type": "execute_result"
    },
    {
     "data": {
      "image/png": "[encoded data removed]",
      "text/plain": [
       "<Figure size 432x288 with 1 Axes>"
      ]
     },
     "metadata": {},
     "output_type": "display_data"
    }
   ],
   "source": [
    "plt.scatter(Y['Clicks'],Y['Applicants'], c=kmeans.labels_, cmap='rainbow')  \n",
    "#plt.scatter(kmeans.cluster_centers_[:,0] ,kmeans.cluster_centers_[:,1], color='black') "
   ]
  },
  {
   "cell_type": "code",
   "execution_count": 125,
   "metadata": {},
   "outputs": [
    {
     "data": {
      "text/plain": [
       "<matplotlib.collections.PathCollection at 0x2288bbfc080>"
      ]
     },
     "execution_count": 125,
     "metadata": {},
     "output_type": "execute_result"
    },
    {
     "data": {
      "image/png": "[encoded data removed]",
      "text/plain": [
       "<Figure size 432x288 with 1 Axes>"
      ]
     },
     "metadata": {},
     "output_type": "display_data"
    }
   ],
   "source": [
    "plt.scatter(kmeans.cluster_centers_[:,0] ,kmeans.cluster_centers_[:,1], color='black') "
   ]
  },
  {
   "cell_type": "markdown",
   "metadata": {},
   "source": [
    "# RandomForest"
   ]
  },
  {
   "cell_type": "code",
   "execution_count": 131,
   "metadata": {},
   "outputs": [
    {
     "name": "stdout",
     "output_type": "stream",
     "text": [
      "Score with the entire dataset = 0.99\n"
     ]
    }
   ],
   "source": [
    "from sklearn.model_selection import cross_val_score\n",
    "from sklearn.ensemble import RandomForestRegressor\n",
    "estimator = RandomForestRegressor(random_state=0, n_estimators=100)\n",
    "score = cross_val_score(estimator, X,Y).mean()\n",
    "print(\"Score with the entire dataset = %.2f\" % score)\n",
    " # cross val check diff rows  "
   ]
  },
  {
   "cell_type": "code",
   "execution_count": null,
   "metadata": {},
   "outputs": [],
   "source": []
  },
  {
   "cell_type": "code",
   "execution_count": null,
   "metadata": {},
   "outputs": [],
   "source": []
  },
  {
   "cell_type": "code",
   "execution_count": 147,
   "metadata": {},
   "outputs": [],
   "source": [
    "# # Compare Algorithms\n",
    "# import pandas\n",
    "# import matplotlib.pyplot as plt\n",
    "# from sklearn import model_selection\n",
    "# from sklearn.linear_model import LogisticRegression\n",
    "# from sklearn.tree import DecisionTreeClassifier\n",
    "# from sklearn.neighbors import KNeighborsClassifier\n",
    "# from sklearn.discriminant_analysis import LinearDiscriminantAnalysis\n",
    "# from sklearn.naive_bayes import GaussianNB\n",
    "# from sklearn.svm import SVC\n",
    "# # load dataset\n",
    "\n",
    "# # prepare configuration for cross validation test harness\n",
    "# seed = 7\n",
    "# # prepare models\n",
    "# models = []\n",
    "# models.append(('LR', LogisticRegression()))\n",
    "# models.append(('LDA', LinearDiscriminantAnalysis()))\n",
    "# # models.append(('KNN', KNeighborsClassifier()))\n",
    "# # models.append(('CART', DecisionTreeClassifier()))\n",
    "# models.append(('NB', GaussianNB()))\n",
    "# models.append(('SVM', SVC()))\n",
    "# #evaluate each model in turn\n",
    "# results = []\n",
    "# names = []\n",
    "# scoring = 'RMSE'\n",
    "# for name, model in models:\n",
    "#     kfold = model_selection.KFold(n_splits=10, random_state=seed)\n",
    "#     cv_results = model_selection.cross_val_score(model, X, Y['Clicks'], cv=kfold, scoring=scoring)\n",
    "#     results.append(cv_results)\n",
    "#     names.append(name)\n",
    "#     msg = \"%s: %f (%f)\" % (name, cv_results.mean(), cv_results.std())\n",
    "#     print(msg)\n",
    "# # boxplot algorithm comparison\n",
    "# fig = plt.figure()\n",
    "# fig.suptitle('Algorithm Comparison')\n",
    "# ax = fig.add_subplot(111)\n",
    "# plt.boxplot(results)\n",
    "# ax.set_xticklabels(names)\n",
    "# plt.show()\n"
   ]
  },
  {
   "cell_type": "code",
   "execution_count": 148,
   "metadata": {},
   "outputs": [
    {
     "ename": "NameError",
     "evalue": "name 'subplots' is not defined",
     "output_type": "error",
     "traceback": [
      "\u001b[1;31m---------------------------------------------------------------------------\u001b[0m",
      "\u001b[1;31mNameError\u001b[0m                                 Traceback (most recent call last)",
      "\u001b[1;32m<ipython-input-148-02d4e63688da>\u001b[0m in \u001b[0;36m<module>\u001b[1;34m()\u001b[0m\n\u001b[0;32m      1\u001b[0m \u001b[0mplt\u001b[0m\u001b[1;33m.\u001b[0m\u001b[0mion\u001b[0m\u001b[1;33m(\u001b[0m\u001b[1;33m)\u001b[0m\u001b[1;33m\u001b[0m\u001b[0m\n\u001b[0;32m      2\u001b[0m \u001b[1;33m\u001b[0m\u001b[0m\n\u001b[1;32m----> 3\u001b[1;33m \u001b[0mfig\u001b[0m\u001b[1;33m,\u001b[0m\u001b[0max\u001b[0m \u001b[1;33m=\u001b[0m \u001b[0msubplots\u001b[0m\u001b[1;33m(\u001b[0m\u001b[1;36m1\u001b[0m\u001b[1;33m,\u001b[0m\u001b[1;36m1\u001b[0m\u001b[1;33m)\u001b[0m\u001b[1;33m\u001b[0m\u001b[0m\n\u001b[0m\u001b[0;32m      4\u001b[0m \u001b[0max\u001b[0m\u001b[1;33m.\u001b[0m\u001b[0mset_aspect\u001b[0m\u001b[1;33m(\u001b[0m\u001b[1;34m'equal'\u001b[0m\u001b[1;33m)\u001b[0m\u001b[1;33m\u001b[0m\u001b[0m\n\u001b[0;32m      5\u001b[0m \u001b[0mfig\u001b[0m\u001b[1;33m.\u001b[0m\u001b[0mcanvas\u001b[0m\u001b[1;33m.\u001b[0m\u001b[0mdraw\u001b[0m\u001b[1;33m(\u001b[0m\u001b[1;33m)\u001b[0m\u001b[1;33m\u001b[0m\u001b[0m\n",
      "\u001b[1;31mNameError\u001b[0m: name 'subplots' is not defined"
     ]
    }
   ],
   "source": []
  },
  {
   "cell_type": "code",
   "execution_count": null,
   "metadata": {},
   "outputs": [],
   "source": []
  }
 ],
 "metadata": {
  "kernelspec": {
   "display_name": "Python 3",
   "language": "python",
   "name": "python3"
  },
  "language_info": {
   "codemirror_mode": {
    "name": "ipython",
    "version": 3
   },
   "file_extension": ".py",
   "mimetype": "text/x-python",
   "name": "python",
   "nbconvert_exporter": "python",
   "pygments_lexer": "ipython3",
   "version": "3.6.5"
  }
 },
 "nbformat": 4,
 "nbformat_minor": 2
}
